{
  "nbformat": 4,
  "nbformat_minor": 0,
  "metadata": {
    "colab": {
      "name": "Churn_Modelling.ipynb",
      "provenance": [],
      "collapsed_sections": [],
      "authorship_tag": "ABX9TyPmQgvAfEJe7l6X+26nohP0",
      "include_colab_link": true
    },
    "kernelspec": {
      "name": "python3",
      "display_name": "Python 3"
    }
  },
  "cells": [
    {
      "cell_type": "markdown",
      "metadata": {
        "id": "view-in-github",
        "colab_type": "text"
      },
      "source": [
        "<a href=\"https://colab.research.google.com/github/kumarmayank29/Churn-Modelling/blob/main/Churn_Modelling.ipynb\" target=\"_parent\"><img src=\"https://colab.research.google.com/assets/colab-badge.svg\" alt=\"Open In Colab\"/></a>"
      ]
    },
    {
      "cell_type": "markdown",
      "metadata": {
        "id": "hiXmk-O3fKNt"
      },
      "source": [
        "**Churn_Modelling**\r\n",
        "\r\n",
        "**This data set contains details of a bank's customers and the target variable is a binary variable reflecting the fact whether the customer left the bank (closed his account) or he continues to be a customer.**"
      ]
    },
    {
      "cell_type": "code",
      "metadata": {
        "id": "zvGReRbmfJM3"
      },
      "source": [
        "# import the libraries\r\n",
        "import pandas as pd\r\n",
        "import numpy as np"
      ],
      "execution_count": 1,
      "outputs": []
    },
    {
      "cell_type": "code",
      "metadata": {
        "colab": {
          "resources": {
            "http://localhost:8080/nbextensions/google.colab/files.js": {
              "data": "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",
              "ok": true,
              "headers": [
                [
                  "content-type",
                  "application/javascript"
                ]
              ],
              "status": 200,
              "status_text": ""
            }
          },
          "base_uri": "https://localhost:8080/",
          "height": 73
        },
        "id": "Je0cfVpYfcWA",
        "outputId": "567da0f7-3858-4333-857b-02bbfd3d1c93"
      },
      "source": [
        "from google.colab import files\r\n",
        "uploaded = files.upload()"
      ],
      "execution_count": 2,
      "outputs": [
        {
          "output_type": "display_data",
          "data": {
            "text/html": [
              "\n",
              "     <input type=\"file\" id=\"files-079c3c42-0ced-4d2e-8a3d-ed2ec3341780\" name=\"files[]\" multiple disabled\n",
              "        style=\"border:none\" />\n",
              "     <output id=\"result-079c3c42-0ced-4d2e-8a3d-ed2ec3341780\">\n",
              "      Upload widget is only available when the cell has been executed in the\n",
              "      current browser session. Please rerun this cell to enable.\n",
              "      </output>\n",
              "      <script src=\"/nbextensions/google.colab/files.js\"></script> "
            ],
            "text/plain": [
              "<IPython.core.display.HTML object>"
            ]
          },
          "metadata": {
            "tags": []
          }
        },
        {
          "output_type": "stream",
          "text": [
            "Saving Churn.csv to Churn.csv\n"
          ],
          "name": "stdout"
        }
      ]
    },
    {
      "cell_type": "code",
      "metadata": {
        "id": "gfpXEmOVftwL"
      },
      "source": [
        "data=pd.read_csv(\"Churn.csv\")"
      ],
      "execution_count": 4,
      "outputs": []
    },
    {
      "cell_type": "code",
      "metadata": {
        "colab": {
          "base_uri": "https://localhost:8080/"
        },
        "id": "5tKDTB_Of3cW",
        "outputId": "b8f2580d-12a1-4182-f8db-14ce53c7abab"
      },
      "source": [
        "type(data)"
      ],
      "execution_count": 6,
      "outputs": [
        {
          "output_type": "execute_result",
          "data": {
            "text/plain": [
              "pandas.core.frame.DataFrame"
            ]
          },
          "metadata": {
            "tags": []
          },
          "execution_count": 6
        }
      ]
    },
    {
      "cell_type": "code",
      "metadata": {
        "colab": {
          "base_uri": "https://localhost:8080/"
        },
        "id": "VNdTlBB7gABi",
        "outputId": "ef51b3c3-2bfc-4615-8aa5-d1792b2535e2"
      },
      "source": [
        "data.isnull().any()"
      ],
      "execution_count": 7,
      "outputs": [
        {
          "output_type": "execute_result",
          "data": {
            "text/plain": [
              "RowNumber          False\n",
              "CustomerId         False\n",
              "Surname            False\n",
              "CreditScore        False\n",
              "Geography          False\n",
              "Gender             False\n",
              "Age                False\n",
              "Tenure             False\n",
              "Balance            False\n",
              "NumOfProducts      False\n",
              "HasCrCard          False\n",
              "IsActiveMember     False\n",
              "EstimatedSalary    False\n",
              "Exited             False\n",
              "dtype: bool"
            ]
          },
          "metadata": {
            "tags": []
          },
          "execution_count": 7
        }
      ]
    },
    {
      "cell_type": "code",
      "metadata": {
        "colab": {
          "base_uri": "https://localhost:8080/",
          "height": 378
        },
        "id": "JCJqhMglgEGY",
        "outputId": "68bc7fc4-beab-429c-ba06-9fd1c1aa1906"
      },
      "source": [
        "data.head(10)"
      ],
      "execution_count": 9,
      "outputs": [
        {
          "output_type": "execute_result",
          "data": {
            "text/html": [
              "<div>\n",
              "<style scoped>\n",
              "    .dataframe tbody tr th:only-of-type {\n",
              "        vertical-align: middle;\n",
              "    }\n",
              "\n",
              "    .dataframe tbody tr th {\n",
              "        vertical-align: top;\n",
              "    }\n",
              "\n",
              "    .dataframe thead th {\n",
              "        text-align: right;\n",
              "    }\n",
              "</style>\n",
              "<table border=\"1\" class=\"dataframe\">\n",
              "  <thead>\n",
              "    <tr style=\"text-align: right;\">\n",
              "      <th></th>\n",
              "      <th>RowNumber</th>\n",
              "      <th>CustomerId</th>\n",
              "      <th>Surname</th>\n",
              "      <th>CreditScore</th>\n",
              "      <th>Geography</th>\n",
              "      <th>Gender</th>\n",
              "      <th>Age</th>\n",
              "      <th>Tenure</th>\n",
              "      <th>Balance</th>\n",
              "      <th>NumOfProducts</th>\n",
              "      <th>HasCrCard</th>\n",
              "      <th>IsActiveMember</th>\n",
              "      <th>EstimatedSalary</th>\n",
              "      <th>Exited</th>\n",
              "    </tr>\n",
              "  </thead>\n",
              "  <tbody>\n",
              "    <tr>\n",
              "      <th>0</th>\n",
              "      <td>1</td>\n",
              "      <td>15634602</td>\n",
              "      <td>Hargrave</td>\n",
              "      <td>619</td>\n",
              "      <td>France</td>\n",
              "      <td>Female</td>\n",
              "      <td>42</td>\n",
              "      <td>2</td>\n",
              "      <td>0.00</td>\n",
              "      <td>1</td>\n",
              "      <td>1</td>\n",
              "      <td>1</td>\n",
              "      <td>101348.88</td>\n",
              "      <td>1</td>\n",
              "    </tr>\n",
              "    <tr>\n",
              "      <th>1</th>\n",
              "      <td>2</td>\n",
              "      <td>15647311</td>\n",
              "      <td>Hill</td>\n",
              "      <td>225</td>\n",
              "      <td>Spain</td>\n",
              "      <td>Female</td>\n",
              "      <td>41</td>\n",
              "      <td>1</td>\n",
              "      <td>83807.86</td>\n",
              "      <td>1</td>\n",
              "      <td>0</td>\n",
              "      <td>1</td>\n",
              "      <td>112542.58</td>\n",
              "      <td>0</td>\n",
              "    </tr>\n",
              "    <tr>\n",
              "      <th>2</th>\n",
              "      <td>3</td>\n",
              "      <td>15619304</td>\n",
              "      <td>Onio</td>\n",
              "      <td>629</td>\n",
              "      <td>France</td>\n",
              "      <td>Female</td>\n",
              "      <td>42</td>\n",
              "      <td>8</td>\n",
              "      <td>159660.80</td>\n",
              "      <td>3</td>\n",
              "      <td>1</td>\n",
              "      <td>0</td>\n",
              "      <td>113931.57</td>\n",
              "      <td>1</td>\n",
              "    </tr>\n",
              "    <tr>\n",
              "      <th>3</th>\n",
              "      <td>4</td>\n",
              "      <td>15701354</td>\n",
              "      <td>Boni</td>\n",
              "      <td>699</td>\n",
              "      <td>France</td>\n",
              "      <td>Female</td>\n",
              "      <td>39</td>\n",
              "      <td>1</td>\n",
              "      <td>0.00</td>\n",
              "      <td>2</td>\n",
              "      <td>0</td>\n",
              "      <td>0</td>\n",
              "      <td>93826.63</td>\n",
              "      <td>0</td>\n",
              "    </tr>\n",
              "    <tr>\n",
              "      <th>4</th>\n",
              "      <td>5</td>\n",
              "      <td>15737888</td>\n",
              "      <td>Mitchell</td>\n",
              "      <td>850</td>\n",
              "      <td>Spain</td>\n",
              "      <td>Female</td>\n",
              "      <td>43</td>\n",
              "      <td>2</td>\n",
              "      <td>125510.82</td>\n",
              "      <td>1</td>\n",
              "      <td>1</td>\n",
              "      <td>1</td>\n",
              "      <td>79084.10</td>\n",
              "      <td>0</td>\n",
              "    </tr>\n",
              "    <tr>\n",
              "      <th>5</th>\n",
              "      <td>6</td>\n",
              "      <td>15574012</td>\n",
              "      <td>Chu</td>\n",
              "      <td>645</td>\n",
              "      <td>Spain</td>\n",
              "      <td>Male</td>\n",
              "      <td>44</td>\n",
              "      <td>8</td>\n",
              "      <td>113755.78</td>\n",
              "      <td>2</td>\n",
              "      <td>1</td>\n",
              "      <td>0</td>\n",
              "      <td>149756.71</td>\n",
              "      <td>1</td>\n",
              "    </tr>\n",
              "    <tr>\n",
              "      <th>6</th>\n",
              "      <td>7</td>\n",
              "      <td>15592531</td>\n",
              "      <td>Bartlett</td>\n",
              "      <td>619</td>\n",
              "      <td>France</td>\n",
              "      <td>Male</td>\n",
              "      <td>50</td>\n",
              "      <td>7</td>\n",
              "      <td>0.00</td>\n",
              "      <td>2</td>\n",
              "      <td>1</td>\n",
              "      <td>1</td>\n",
              "      <td>10062.80</td>\n",
              "      <td>0</td>\n",
              "    </tr>\n",
              "    <tr>\n",
              "      <th>7</th>\n",
              "      <td>8</td>\n",
              "      <td>15656148</td>\n",
              "      <td>Obinna</td>\n",
              "      <td>376</td>\n",
              "      <td>Germany</td>\n",
              "      <td>Female</td>\n",
              "      <td>29</td>\n",
              "      <td>4</td>\n",
              "      <td>115046.74</td>\n",
              "      <td>4</td>\n",
              "      <td>1</td>\n",
              "      <td>0</td>\n",
              "      <td>119346.88</td>\n",
              "      <td>1</td>\n",
              "    </tr>\n",
              "    <tr>\n",
              "      <th>8</th>\n",
              "      <td>9</td>\n",
              "      <td>15792365</td>\n",
              "      <td>He</td>\n",
              "      <td>501</td>\n",
              "      <td>France</td>\n",
              "      <td>Male</td>\n",
              "      <td>44</td>\n",
              "      <td>4</td>\n",
              "      <td>142051.07</td>\n",
              "      <td>2</td>\n",
              "      <td>0</td>\n",
              "      <td>1</td>\n",
              "      <td>74940.50</td>\n",
              "      <td>0</td>\n",
              "    </tr>\n",
              "    <tr>\n",
              "      <th>9</th>\n",
              "      <td>10</td>\n",
              "      <td>15592389</td>\n",
              "      <td>H?</td>\n",
              "      <td>684</td>\n",
              "      <td>France</td>\n",
              "      <td>Male</td>\n",
              "      <td>43</td>\n",
              "      <td>2</td>\n",
              "      <td>134603.88</td>\n",
              "      <td>1</td>\n",
              "      <td>1</td>\n",
              "      <td>1</td>\n",
              "      <td>71725.73</td>\n",
              "      <td>0</td>\n",
              "    </tr>\n",
              "  </tbody>\n",
              "</table>\n",
              "</div>"
            ],
            "text/plain": [
              "   RowNumber  CustomerId   Surname  ...  IsActiveMember EstimatedSalary Exited\n",
              "0          1    15634602  Hargrave  ...               1       101348.88      1\n",
              "1          2    15647311      Hill  ...               1       112542.58      0\n",
              "2          3    15619304      Onio  ...               0       113931.57      1\n",
              "3          4    15701354      Boni  ...               0        93826.63      0\n",
              "4          5    15737888  Mitchell  ...               1        79084.10      0\n",
              "5          6    15574012       Chu  ...               0       149756.71      1\n",
              "6          7    15592531  Bartlett  ...               1        10062.80      0\n",
              "7          8    15656148    Obinna  ...               0       119346.88      1\n",
              "8          9    15792365        He  ...               1        74940.50      0\n",
              "9         10    15592389        H?  ...               1        71725.73      0\n",
              "\n",
              "[10 rows x 14 columns]"
            ]
          },
          "metadata": {
            "tags": []
          },
          "execution_count": 9
        }
      ]
    },
    {
      "cell_type": "markdown",
      "metadata": {
        "id": "t4F5YtfQgQ0W"
      },
      "source": [
        "**Unique Values in GeoGraphy and Gender**"
      ]
    },
    {
      "cell_type": "code",
      "metadata": {
        "colab": {
          "base_uri": "https://localhost:8080/"
        },
        "id": "ldbXFaZKgHXn",
        "outputId": "deef980b-251b-4e65-c915-91e43d9c58ec"
      },
      "source": [
        "data['Gender'].unique()"
      ],
      "execution_count": 10,
      "outputs": [
        {
          "output_type": "execute_result",
          "data": {
            "text/plain": [
              "array(['Female', 'Male'], dtype=object)"
            ]
          },
          "metadata": {
            "tags": []
          },
          "execution_count": 10
        }
      ]
    },
    {
      "cell_type": "code",
      "metadata": {
        "colab": {
          "base_uri": "https://localhost:8080/"
        },
        "id": "xD5dn6ZPgUiP",
        "outputId": "623a63f9-57ea-49ba-fdfe-7d2bfd14feea"
      },
      "source": [
        "data['Geography'].unique()"
      ],
      "execution_count": 11,
      "outputs": [
        {
          "output_type": "execute_result",
          "data": {
            "text/plain": [
              "array(['France', 'Spain', 'Germany'], dtype=object)"
            ]
          },
          "metadata": {
            "tags": []
          },
          "execution_count": 11
        }
      ]
    },
    {
      "cell_type": "code",
      "metadata": {
        "colab": {
          "base_uri": "https://localhost:8080/"
        },
        "id": "hPmTDQ4DgY8_",
        "outputId": "f6a60541-36e4-454d-bc8d-e654748e3cb5"
      },
      "source": [
        "data['Gender'].value_counts()"
      ],
      "execution_count": 12,
      "outputs": [
        {
          "output_type": "execute_result",
          "data": {
            "text/plain": [
              "Male      5457\n",
              "Female    4543\n",
              "Name: Gender, dtype: int64"
            ]
          },
          "metadata": {
            "tags": []
          },
          "execution_count": 12
        }
      ]
    },
    {
      "cell_type": "markdown",
      "metadata": {
        "id": "-i_6mQmLgclp"
      },
      "source": [
        "**Handle Missing Values**"
      ]
    },
    {
      "cell_type": "markdown",
      "metadata": {
        "id": "o810q43qgqkO"
      },
      "source": [
        "Repalce with Mean Median or Mode\r\n",
        "\r\n",
        "data['Geography'].fillna(data['Geography'].mode()[0],inplace=True)\r\n",
        "\r\n",
        "data['Age'].fillna(data['Age'].mean(),inplace=True)\r\n",
        "\r\n",
        "**What is Churn Its percentage of Subscriber moving from one survice to another service**\r\n",
        "\r\n",
        "Suppose You are an owner of a Airtel Compnmay then weather a subscriber will take your service or quit is is basically what is called churn\r\n",
        "This is data about a bank industry,So in bank industry we are trying to create an algorithm to predict if a person will continue/Quiting the bank\r\n",
        "\r\n",
        "Characteristics of Customer given in form of Columns.The Person with given information may/maynot continue with the bank\r\n",
        "\r\n",
        "Row Number,Surname,CustomerId is not at all responsible in predicting the exite state\r\n",
        "\r\n",
        "5.Records which are really important in predicting Exite are\r\n",
        "\r\n",
        "Credit Score\r\n",
        "\r\n",
        "Gender -Female Housewives not very active in bank deposits.\r\n",
        "\r\n",
        "Geography -How Far Bank is from your place\r\n",
        "\r\n",
        "Age -Offcourse Its Important\r\n",
        "\r\n",
        "Tennure -Yes\r\n",
        "\r\n",
        "Balance\r\n",
        "\r\n",
        "Other are all\r\n",
        "\r\n",
        "Exited is Our Output and Rest will form out input"
      ]
    },
    {
      "cell_type": "code",
      "metadata": {
        "id": "FvK5K9WVgcb5"
      },
      "source": [
        "\r\n",
        "data['Geography'].fillna(data['Geography'].mode()[0],inplace = True)\r\n",
        "data['Age'].fillna(data['Age'].mean(),inplace = True)\r\n",
        "data['Balance'].fillna(data['Balance'].median(),inplace = True)"
      ],
      "execution_count": 14,
      "outputs": []
    },
    {
      "cell_type": "code",
      "metadata": {
        "colab": {
          "base_uri": "https://localhost:8080/"
        },
        "id": "TuvIK3WdgbVR",
        "outputId": "28e620cf-5b86-414d-9eee-ab9b412eeecd"
      },
      "source": [
        "\r\n",
        "data.isnull().any()"
      ],
      "execution_count": 16,
      "outputs": [
        {
          "output_type": "execute_result",
          "data": {
            "text/plain": [
              "RowNumber          False\n",
              "CustomerId         False\n",
              "Surname            False\n",
              "CreditScore        False\n",
              "Geography          False\n",
              "Gender             False\n",
              "Age                False\n",
              "Tenure             False\n",
              "Balance            False\n",
              "NumOfProducts      False\n",
              "HasCrCard          False\n",
              "IsActiveMember     False\n",
              "EstimatedSalary    False\n",
              "Exited             False\n",
              "dtype: bool"
            ]
          },
          "metadata": {
            "tags": []
          },
          "execution_count": 16
        }
      ]
    },
    {
      "cell_type": "markdown",
      "metadata": {
        "id": "WTP3O_vVhLHZ"
      },
      "source": [
        "**Convert (\"Categorical Data\") Text Data To Numerical Data**\r\n",
        "\r\n",
        "**For this we use LabelEncoder class**"
      ]
    },
    {
      "cell_type": "markdown",
      "metadata": {
        "id": "pzhCTq65hj--"
      },
      "source": [
        "In Label Encoding the numerical values are associated wrt alphabets in an order in which alphabets occur\r\n",
        "\r\n",
        "For Example France (F) comes prior to Germany (G) hence france is given value of 0 Germany 1\r\n",
        "\r\n",
        "Consider we have values like France,Germany,Spain,USA,NewYork and India Then Labels will be\r\n",
        "\r\n",
        "1. France-0\r\n",
        "2. Germany-1\r\n",
        "3. India-2\r\n",
        "4. NewYork-3\r\n",
        "5. Spain-4\r\n",
        "6. USA-5"
      ]
    },
    {
      "cell_type": "code",
      "metadata": {
        "colab": {
          "base_uri": "https://localhost:8080/",
          "height": 223
        },
        "id": "H7UCnyl6hCXd",
        "outputId": "b4d7de1f-ee10-4288-ed46-6313adcbc3e5"
      },
      "source": [
        "data.head()"
      ],
      "execution_count": 17,
      "outputs": [
        {
          "output_type": "execute_result",
          "data": {
            "text/html": [
              "<div>\n",
              "<style scoped>\n",
              "    .dataframe tbody tr th:only-of-type {\n",
              "        vertical-align: middle;\n",
              "    }\n",
              "\n",
              "    .dataframe tbody tr th {\n",
              "        vertical-align: top;\n",
              "    }\n",
              "\n",
              "    .dataframe thead th {\n",
              "        text-align: right;\n",
              "    }\n",
              "</style>\n",
              "<table border=\"1\" class=\"dataframe\">\n",
              "  <thead>\n",
              "    <tr style=\"text-align: right;\">\n",
              "      <th></th>\n",
              "      <th>RowNumber</th>\n",
              "      <th>CustomerId</th>\n",
              "      <th>Surname</th>\n",
              "      <th>CreditScore</th>\n",
              "      <th>Geography</th>\n",
              "      <th>Gender</th>\n",
              "      <th>Age</th>\n",
              "      <th>Tenure</th>\n",
              "      <th>Balance</th>\n",
              "      <th>NumOfProducts</th>\n",
              "      <th>HasCrCard</th>\n",
              "      <th>IsActiveMember</th>\n",
              "      <th>EstimatedSalary</th>\n",
              "      <th>Exited</th>\n",
              "    </tr>\n",
              "  </thead>\n",
              "  <tbody>\n",
              "    <tr>\n",
              "      <th>0</th>\n",
              "      <td>1</td>\n",
              "      <td>15634602</td>\n",
              "      <td>Hargrave</td>\n",
              "      <td>619</td>\n",
              "      <td>France</td>\n",
              "      <td>Female</td>\n",
              "      <td>42</td>\n",
              "      <td>2</td>\n",
              "      <td>0.00</td>\n",
              "      <td>1</td>\n",
              "      <td>1</td>\n",
              "      <td>1</td>\n",
              "      <td>101348.88</td>\n",
              "      <td>1</td>\n",
              "    </tr>\n",
              "    <tr>\n",
              "      <th>1</th>\n",
              "      <td>2</td>\n",
              "      <td>15647311</td>\n",
              "      <td>Hill</td>\n",
              "      <td>225</td>\n",
              "      <td>Spain</td>\n",
              "      <td>Female</td>\n",
              "      <td>41</td>\n",
              "      <td>1</td>\n",
              "      <td>83807.86</td>\n",
              "      <td>1</td>\n",
              "      <td>0</td>\n",
              "      <td>1</td>\n",
              "      <td>112542.58</td>\n",
              "      <td>0</td>\n",
              "    </tr>\n",
              "    <tr>\n",
              "      <th>2</th>\n",
              "      <td>3</td>\n",
              "      <td>15619304</td>\n",
              "      <td>Onio</td>\n",
              "      <td>629</td>\n",
              "      <td>France</td>\n",
              "      <td>Female</td>\n",
              "      <td>42</td>\n",
              "      <td>8</td>\n",
              "      <td>159660.80</td>\n",
              "      <td>3</td>\n",
              "      <td>1</td>\n",
              "      <td>0</td>\n",
              "      <td>113931.57</td>\n",
              "      <td>1</td>\n",
              "    </tr>\n",
              "    <tr>\n",
              "      <th>3</th>\n",
              "      <td>4</td>\n",
              "      <td>15701354</td>\n",
              "      <td>Boni</td>\n",
              "      <td>699</td>\n",
              "      <td>France</td>\n",
              "      <td>Female</td>\n",
              "      <td>39</td>\n",
              "      <td>1</td>\n",
              "      <td>0.00</td>\n",
              "      <td>2</td>\n",
              "      <td>0</td>\n",
              "      <td>0</td>\n",
              "      <td>93826.63</td>\n",
              "      <td>0</td>\n",
              "    </tr>\n",
              "    <tr>\n",
              "      <th>4</th>\n",
              "      <td>5</td>\n",
              "      <td>15737888</td>\n",
              "      <td>Mitchell</td>\n",
              "      <td>850</td>\n",
              "      <td>Spain</td>\n",
              "      <td>Female</td>\n",
              "      <td>43</td>\n",
              "      <td>2</td>\n",
              "      <td>125510.82</td>\n",
              "      <td>1</td>\n",
              "      <td>1</td>\n",
              "      <td>1</td>\n",
              "      <td>79084.10</td>\n",
              "      <td>0</td>\n",
              "    </tr>\n",
              "  </tbody>\n",
              "</table>\n",
              "</div>"
            ],
            "text/plain": [
              "   RowNumber  CustomerId   Surname  ...  IsActiveMember EstimatedSalary Exited\n",
              "0          1    15634602  Hargrave  ...               1       101348.88      1\n",
              "1          2    15647311      Hill  ...               1       112542.58      0\n",
              "2          3    15619304      Onio  ...               0       113931.57      1\n",
              "3          4    15701354      Boni  ...               0        93826.63      0\n",
              "4          5    15737888  Mitchell  ...               1        79084.10      0\n",
              "\n",
              "[5 rows x 14 columns]"
            ]
          },
          "metadata": {
            "tags": []
          },
          "execution_count": 17
        }
      ]
    },
    {
      "cell_type": "code",
      "metadata": {
        "id": "Wk3Wxw_OhUFT"
      },
      "source": [
        "from sklearn.preprocessing import LabelEncoder\r\n",
        "le=LabelEncoder()\r\n",
        "data['Gender']=le.fit_transform(data['Gender'])\r\n",
        "data['Geography']=le.fit_transform(data['Gender'])"
      ],
      "execution_count": 18,
      "outputs": []
    },
    {
      "cell_type": "code",
      "metadata": {
        "colab": {
          "base_uri": "https://localhost:8080/",
          "height": 223
        },
        "id": "LMjHXxovhXCZ",
        "outputId": "d704e698-268d-4072-c29a-95dfaeff7345"
      },
      "source": [
        "data.head()"
      ],
      "execution_count": 19,
      "outputs": [
        {
          "output_type": "execute_result",
          "data": {
            "text/html": [
              "<div>\n",
              "<style scoped>\n",
              "    .dataframe tbody tr th:only-of-type {\n",
              "        vertical-align: middle;\n",
              "    }\n",
              "\n",
              "    .dataframe tbody tr th {\n",
              "        vertical-align: top;\n",
              "    }\n",
              "\n",
              "    .dataframe thead th {\n",
              "        text-align: right;\n",
              "    }\n",
              "</style>\n",
              "<table border=\"1\" class=\"dataframe\">\n",
              "  <thead>\n",
              "    <tr style=\"text-align: right;\">\n",
              "      <th></th>\n",
              "      <th>RowNumber</th>\n",
              "      <th>CustomerId</th>\n",
              "      <th>Surname</th>\n",
              "      <th>CreditScore</th>\n",
              "      <th>Geography</th>\n",
              "      <th>Gender</th>\n",
              "      <th>Age</th>\n",
              "      <th>Tenure</th>\n",
              "      <th>Balance</th>\n",
              "      <th>NumOfProducts</th>\n",
              "      <th>HasCrCard</th>\n",
              "      <th>IsActiveMember</th>\n",
              "      <th>EstimatedSalary</th>\n",
              "      <th>Exited</th>\n",
              "    </tr>\n",
              "  </thead>\n",
              "  <tbody>\n",
              "    <tr>\n",
              "      <th>0</th>\n",
              "      <td>1</td>\n",
              "      <td>15634602</td>\n",
              "      <td>Hargrave</td>\n",
              "      <td>619</td>\n",
              "      <td>0</td>\n",
              "      <td>0</td>\n",
              "      <td>42</td>\n",
              "      <td>2</td>\n",
              "      <td>0.00</td>\n",
              "      <td>1</td>\n",
              "      <td>1</td>\n",
              "      <td>1</td>\n",
              "      <td>101348.88</td>\n",
              "      <td>1</td>\n",
              "    </tr>\n",
              "    <tr>\n",
              "      <th>1</th>\n",
              "      <td>2</td>\n",
              "      <td>15647311</td>\n",
              "      <td>Hill</td>\n",
              "      <td>225</td>\n",
              "      <td>0</td>\n",
              "      <td>0</td>\n",
              "      <td>41</td>\n",
              "      <td>1</td>\n",
              "      <td>83807.86</td>\n",
              "      <td>1</td>\n",
              "      <td>0</td>\n",
              "      <td>1</td>\n",
              "      <td>112542.58</td>\n",
              "      <td>0</td>\n",
              "    </tr>\n",
              "    <tr>\n",
              "      <th>2</th>\n",
              "      <td>3</td>\n",
              "      <td>15619304</td>\n",
              "      <td>Onio</td>\n",
              "      <td>629</td>\n",
              "      <td>0</td>\n",
              "      <td>0</td>\n",
              "      <td>42</td>\n",
              "      <td>8</td>\n",
              "      <td>159660.80</td>\n",
              "      <td>3</td>\n",
              "      <td>1</td>\n",
              "      <td>0</td>\n",
              "      <td>113931.57</td>\n",
              "      <td>1</td>\n",
              "    </tr>\n",
              "    <tr>\n",
              "      <th>3</th>\n",
              "      <td>4</td>\n",
              "      <td>15701354</td>\n",
              "      <td>Boni</td>\n",
              "      <td>699</td>\n",
              "      <td>0</td>\n",
              "      <td>0</td>\n",
              "      <td>39</td>\n",
              "      <td>1</td>\n",
              "      <td>0.00</td>\n",
              "      <td>2</td>\n",
              "      <td>0</td>\n",
              "      <td>0</td>\n",
              "      <td>93826.63</td>\n",
              "      <td>0</td>\n",
              "    </tr>\n",
              "    <tr>\n",
              "      <th>4</th>\n",
              "      <td>5</td>\n",
              "      <td>15737888</td>\n",
              "      <td>Mitchell</td>\n",
              "      <td>850</td>\n",
              "      <td>0</td>\n",
              "      <td>0</td>\n",
              "      <td>43</td>\n",
              "      <td>2</td>\n",
              "      <td>125510.82</td>\n",
              "      <td>1</td>\n",
              "      <td>1</td>\n",
              "      <td>1</td>\n",
              "      <td>79084.10</td>\n",
              "      <td>0</td>\n",
              "    </tr>\n",
              "  </tbody>\n",
              "</table>\n",
              "</div>"
            ],
            "text/plain": [
              "   RowNumber  CustomerId   Surname  ...  IsActiveMember  EstimatedSalary  Exited\n",
              "0          1    15634602  Hargrave  ...               1        101348.88       1\n",
              "1          2    15647311      Hill  ...               1        112542.58       0\n",
              "2          3    15619304      Onio  ...               0        113931.57       1\n",
              "3          4    15701354      Boni  ...               0         93826.63       0\n",
              "4          5    15737888  Mitchell  ...               1         79084.10       0\n",
              "\n",
              "[5 rows x 14 columns]"
            ]
          },
          "metadata": {
            "tags": []
          },
          "execution_count": 19
        }
      ]
    },
    {
      "cell_type": "code",
      "metadata": {
        "colab": {
          "base_uri": "https://localhost:8080/"
        },
        "id": "lbaF3xWEhZoe",
        "outputId": "0cb14e08-a560-4d60-9e11-7cbc220290a2"
      },
      "source": [
        "data['Gender'].value_counts()"
      ],
      "execution_count": 20,
      "outputs": [
        {
          "output_type": "execute_result",
          "data": {
            "text/plain": [
              "1    5457\n",
              "0    4543\n",
              "Name: Gender, dtype: int64"
            ]
          },
          "metadata": {
            "tags": []
          },
          "execution_count": 20
        }
      ]
    },
    {
      "cell_type": "code",
      "metadata": {
        "colab": {
          "base_uri": "https://localhost:8080/"
        },
        "id": "oqzvVGBxhxhJ",
        "outputId": "491c94cf-7f45-4789-ae84-4a6331558168"
      },
      "source": [
        "data['Geography'].value_counts()"
      ],
      "execution_count": 21,
      "outputs": [
        {
          "output_type": "execute_result",
          "data": {
            "text/plain": [
              "1    5457\n",
              "0    4543\n",
              "Name: Geography, dtype: int64"
            ]
          },
          "metadata": {
            "tags": []
          },
          "execution_count": 21
        }
      ]
    },
    {
      "cell_type": "markdown",
      "metadata": {
        "id": "sleu7e3mh3or"
      },
      "source": [
        "**Disadvantage of Label Encoding**\r\n",
        "\r\n",
        "1. Even though these have been converted to numerical format machine is still going to consider it as numbers and not category and based on those numbers model will start giving them priorities based on its numerical value which we dont want\r\n",
        "\r\n",
        "2. So here comes another step to convert numerically converted data to binary format so no priorities are set based on numerical values category .These numericals values are categopry are just representation it has nothing to do with its own significant value France and germany cannot be compared one cannot say France>Germany\r\n",
        "\r\n",
        "3. Hence we need to convert Numerically Converted data to binary format---This Step is called ONE HOT ENCODING"
      ]
    },
    {
      "cell_type": "markdown",
      "metadata": {
        "id": "2dMD6isGiCNf"
      },
      "source": [
        "ONE HOT ENCODING\r\n",
        "\r\n",
        "Before One Hot Encoding Divide data in inputs and outputs\r\n",
        "\r\n",
        "One Hot Encoding is applied only to arrays but here in out case we have dataframe so to convert dataframe to arrays we need to use .values\r\n",
        "\r\n",
        "Applying one hot encoding to any categorical columns will create that many rows suppose we have\r\n",
        "\r\n",
        "Germany France Spain\r\n",
        "\r\n",
        "0 1 0 When France occur\r\n",
        "\r\n",
        "1 0 0 When germany occur\r\n",
        "\r\n",
        "0 0 1 When Spain occurs"
      ]
    },
    {
      "cell_type": "code",
      "metadata": {
        "id": "Sen-QGLLhzek"
      },
      "source": [
        "x = data.iloc[:,3:13].values"
      ],
      "execution_count": 23,
      "outputs": []
    },
    {
      "cell_type": "code",
      "metadata": {
        "id": "JSBAMY8diMNV"
      },
      "source": [
        "\r\n",
        "y = data.iloc[:,13].values"
      ],
      "execution_count": 25,
      "outputs": []
    },
    {
      "cell_type": "code",
      "metadata": {
        "colab": {
          "base_uri": "https://localhost:8080/"
        },
        "id": "tbW_4bcBiPw_",
        "outputId": "bcf69840-0f0d-47bc-8308-e0eb31e027fe"
      },
      "source": [
        "x"
      ],
      "execution_count": 26,
      "outputs": [
        {
          "output_type": "execute_result",
          "data": {
            "text/plain": [
              "array([[6.1900000e+02, 0.0000000e+00, 0.0000000e+00, ..., 1.0000000e+00,\n",
              "        1.0000000e+00, 1.0134888e+05],\n",
              "       [2.2500000e+02, 0.0000000e+00, 0.0000000e+00, ..., 0.0000000e+00,\n",
              "        1.0000000e+00, 1.1254258e+05],\n",
              "       [6.2900000e+02, 0.0000000e+00, 0.0000000e+00, ..., 1.0000000e+00,\n",
              "        0.0000000e+00, 1.1393157e+05],\n",
              "       ...,\n",
              "       [7.0900000e+02, 0.0000000e+00, 0.0000000e+00, ..., 0.0000000e+00,\n",
              "        1.0000000e+00, 4.2085580e+04],\n",
              "       [7.7200000e+02, 1.0000000e+00, 1.0000000e+00, ..., 1.0000000e+00,\n",
              "        0.0000000e+00, 9.2888520e+04],\n",
              "       [7.9200000e+02, 0.0000000e+00, 0.0000000e+00, ..., 1.0000000e+00,\n",
              "        0.0000000e+00, 3.8190780e+04]])"
            ]
          },
          "metadata": {
            "tags": []
          },
          "execution_count": 26
        }
      ]
    },
    {
      "cell_type": "code",
      "metadata": {
        "colab": {
          "base_uri": "https://localhost:8080/"
        },
        "id": "GNbIKlRQiTfJ",
        "outputId": "88af6714-51de-450a-d7b6-81d8b548fe66"
      },
      "source": [
        "y"
      ],
      "execution_count": 27,
      "outputs": [
        {
          "output_type": "execute_result",
          "data": {
            "text/plain": [
              "array([1, 0, 1, ..., 1, 1, 0])"
            ]
          },
          "metadata": {
            "tags": []
          },
          "execution_count": 27
        }
      ]
    },
    {
      "cell_type": "code",
      "metadata": {
        "colab": {
          "base_uri": "https://localhost:8080/"
        },
        "id": "HTfpi9ohiWph",
        "outputId": "82b97eeb-44da-46d6-aabb-16fa4b7098b0"
      },
      "source": [
        "x.shape"
      ],
      "execution_count": 28,
      "outputs": [
        {
          "output_type": "execute_result",
          "data": {
            "text/plain": [
              "(10000, 10)"
            ]
          },
          "metadata": {
            "tags": []
          },
          "execution_count": 28
        }
      ]
    },
    {
      "cell_type": "code",
      "metadata": {
        "id": "Qgo-yIWiiay7"
      },
      "source": [
        "from sklearn.preprocessing import OneHotEncoder\r\n",
        "one = OneHotEncoder()\r\n",
        "z = one.fit_transform(x[:,1:2]).toarray()"
      ],
      "execution_count": 29,
      "outputs": []
    },
    {
      "cell_type": "code",
      "metadata": {
        "colab": {
          "base_uri": "https://localhost:8080/"
        },
        "id": "rhm65tYdifOP",
        "outputId": "c24ab615-aa30-4f36-eef6-ca0df7d01693"
      },
      "source": [
        "x = np.delete(x,1,axis = 1)\r\n",
        "x"
      ],
      "execution_count": 31,
      "outputs": [
        {
          "output_type": "execute_result",
          "data": {
            "text/plain": [
              "array([[6.1900000e+02, 0.0000000e+00, 4.2000000e+01, ..., 1.0000000e+00,\n",
              "        1.0000000e+00, 1.0134888e+05],\n",
              "       [2.2500000e+02, 0.0000000e+00, 4.1000000e+01, ..., 0.0000000e+00,\n",
              "        1.0000000e+00, 1.1254258e+05],\n",
              "       [6.2900000e+02, 0.0000000e+00, 4.2000000e+01, ..., 1.0000000e+00,\n",
              "        0.0000000e+00, 1.1393157e+05],\n",
              "       ...,\n",
              "       [7.0900000e+02, 0.0000000e+00, 3.6000000e+01, ..., 0.0000000e+00,\n",
              "        1.0000000e+00, 4.2085580e+04],\n",
              "       [7.7200000e+02, 1.0000000e+00, 4.2000000e+01, ..., 1.0000000e+00,\n",
              "        0.0000000e+00, 9.2888520e+04],\n",
              "       [7.9200000e+02, 0.0000000e+00, 2.8000000e+01, ..., 1.0000000e+00,\n",
              "        0.0000000e+00, 3.8190780e+04]])"
            ]
          },
          "metadata": {
            "tags": []
          },
          "execution_count": 31
        }
      ]
    },
    {
      "cell_type": "code",
      "metadata": {
        "id": "VqynUKT7iidO"
      },
      "source": [
        "x = np.concatenate((z,x),axis = 1)"
      ],
      "execution_count": 32,
      "outputs": []
    },
    {
      "cell_type": "code",
      "metadata": {
        "colab": {
          "base_uri": "https://localhost:8080/"
        },
        "id": "T-cTxTegiqAN",
        "outputId": "83a72d0a-0998-4fe7-c8af-1b58d0dfeb19"
      },
      "source": [
        "z"
      ],
      "execution_count": 33,
      "outputs": [
        {
          "output_type": "execute_result",
          "data": {
            "text/plain": [
              "array([[1., 0.],\n",
              "       [1., 0.],\n",
              "       [1., 0.],\n",
              "       ...,\n",
              "       [1., 0.],\n",
              "       [0., 1.],\n",
              "       [1., 0.]])"
            ]
          },
          "metadata": {
            "tags": []
          },
          "execution_count": 33
        }
      ]
    },
    {
      "cell_type": "markdown",
      "metadata": {
        "id": "ccM1Dgtli5g5"
      },
      "source": [
        "\r\n",
        "**Split the data in to train and test**\r\n"
      ]
    },
    {
      "cell_type": "code",
      "metadata": {
        "id": "hgHNVJRTiqwk"
      },
      "source": [
        "from sklearn.model_selection import train_test_split\r\n",
        "x_train,x_test,y_train,y_test = train_test_split(x,y,test_size = 0.2, random_state = 0)"
      ],
      "execution_count": 34,
      "outputs": []
    },
    {
      "cell_type": "code",
      "metadata": {
        "colab": {
          "base_uri": "https://localhost:8080/"
        },
        "id": "ZZ5SwkRJiqzR",
        "outputId": "49d89d45-197b-40a2-8779-788177b2e264"
      },
      "source": [
        "x_test.shape,\"  \",y_test.shape,\"  \",x_train.shape,\"  \",y_train.shape"
      ],
      "execution_count": 35,
      "outputs": [
        {
          "output_type": "execute_result",
          "data": {
            "text/plain": [
              "((2000, 11), '  ', (2000,), '  ', (8000, 11), '  ', (8000,))"
            ]
          },
          "metadata": {
            "tags": []
          },
          "execution_count": 35
        }
      ]
    },
    {
      "cell_type": "code",
      "metadata": {
        "id": "xtHcaie1kA7K"
      },
      "source": [
        ""
      ],
      "execution_count": null,
      "outputs": []
    },
    {
      "cell_type": "code",
      "metadata": {
        "colab": {
          "base_uri": "https://localhost:8080/"
        },
        "id": "uKFe6_WWiq1-",
        "outputId": "a9d7177a-b7ec-4fc0-c64f-fce101b8e2cb"
      },
      "source": [
        "#Taking on necessary features\r\n",
        "x_train[:,5:10]"
      ],
      "execution_count": 36,
      "outputs": [
        {
          "output_type": "execute_result",
          "data": {
            "text/plain": [
              "array([[5.0000000e+00, 0.0000000e+00, 2.0000000e+00, 1.0000000e+00,\n",
              "        0.0000000e+00],\n",
              "       [1.0000000e+00, 7.5681520e+04, 1.0000000e+00, 1.0000000e+00,\n",
              "        1.0000000e+00],\n",
              "       [2.0000000e+00, 1.1236734e+05, 1.0000000e+00, 1.0000000e+00,\n",
              "        0.0000000e+00],\n",
              "       ...,\n",
              "       [5.0000000e+00, 1.6127405e+05, 2.0000000e+00, 1.0000000e+00,\n",
              "        0.0000000e+00],\n",
              "       [9.0000000e+00, 0.0000000e+00, 2.0000000e+00, 1.0000000e+00,\n",
              "        1.0000000e+00],\n",
              "       [1.0000000e+00, 1.0807633e+05, 1.0000000e+00, 1.0000000e+00,\n",
              "        0.0000000e+00]])"
            ]
          },
          "metadata": {
            "tags": []
          },
          "execution_count": 36
        }
      ]
    },
    {
      "cell_type": "code",
      "metadata": {
        "id": "Yh2QeeZ1iq4c"
      },
      "source": [
        "from sklearn.preprocessing import StandardScaler\r\n",
        "sc = StandardScaler()\r\n",
        "x_train = sc.fit_transform(x_train)\r\n",
        "x_test = sc.fit_transform(x_test)"
      ],
      "execution_count": 38,
      "outputs": []
    },
    {
      "cell_type": "code",
      "metadata": {
        "colab": {
          "base_uri": "https://localhost:8080/"
        },
        "id": "oz4cSH9Wiq7M",
        "outputId": "3d5d598d-a455-41c0-b1c3-328840f15556"
      },
      "source": [
        "\r\n",
        "x_train.shape"
      ],
      "execution_count": 39,
      "outputs": [
        {
          "output_type": "execute_result",
          "data": {
            "text/plain": [
              "(8000, 11)"
            ]
          },
          "metadata": {
            "tags": []
          },
          "execution_count": 39
        }
      ]
    },
    {
      "cell_type": "markdown",
      "metadata": {
        "id": "TjIHebkRnrRr"
      },
      "source": [
        "**Theory Explanation For below Code**"
      ]
    },
    {
      "cell_type": "markdown",
      "metadata": {
        "id": "sVTYLB3snjTc"
      },
      "source": [
        "![Churn1.jpeg](data:image/jpeg;base64,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)"
      ]
    },
    {
      "cell_type": "markdown",
      "metadata": {
        "id": "OA15p9uEnyGf"
      },
      "source": [
        "![Churn2.jpeg](data:image/jpeg;base64,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)"
      ]
    },
    {
      "cell_type": "markdown",
      "metadata": {
        "id": "GurXneWzkP1e"
      },
      "source": [
        "**Import Libraries**"
      ]
    },
    {
      "cell_type": "code",
      "metadata": {
        "id": "eZaKWK_XkPqS"
      },
      "source": [
        "import keras\r\n",
        "from keras.layers import Dense\r\n",
        "from keras.models import Sequential"
      ],
      "execution_count": 40,
      "outputs": []
    },
    {
      "cell_type": "markdown",
      "metadata": {
        "id": "LRs7N3SjkX3c"
      },
      "source": [
        "**Initialize the model**"
      ]
    },
    {
      "cell_type": "code",
      "metadata": {
        "id": "xRw_eKOMiq90"
      },
      "source": [
        "model = Sequential()   "
      ],
      "execution_count": 41,
      "outputs": []
    },
    {
      "cell_type": "markdown",
      "metadata": {
        "id": "xLPuewqPkdGk"
      },
      "source": [
        "**Add the Input Layer**"
      ]
    },
    {
      "cell_type": "code",
      "metadata": {
        "id": "CRgCVoYSiq_6"
      },
      "source": [
        "model.add(Dense(units = 12,activation = \"relu\"))"
      ],
      "execution_count": 43,
      "outputs": []
    },
    {
      "cell_type": "markdown",
      "metadata": {
        "id": "4bBva1kFkoc0"
      },
      "source": [
        "**Add Hidden Layer**"
      ]
    },
    {
      "cell_type": "code",
      "metadata": {
        "id": "n2xUlq5HirCO"
      },
      "source": [
        "model.add(Dense(units = 24,activation = \"relu\"))"
      ],
      "execution_count": 45,
      "outputs": []
    },
    {
      "cell_type": "markdown",
      "metadata": {
        "id": "y_q9tpgrkuok"
      },
      "source": [
        "**Add Output Layer**"
      ]
    },
    {
      "cell_type": "code",
      "metadata": {
        "id": "fQht_Qb8irEm"
      },
      "source": [
        "model.add(Dense(units = 1,activation = \"sigmoid\"))"
      ],
      "execution_count": 46,
      "outputs": []
    },
    {
      "cell_type": "markdown",
      "metadata": {
        "id": "kyoTkB7lk2fQ"
      },
      "source": [
        "**Compile the Model OR Configure Learning Process**"
      ]
    },
    {
      "cell_type": "code",
      "metadata": {
        "id": "hwgbU8PEk122"
      },
      "source": [
        "model.compile(optimizer = \"adam\",loss = \"binary_crossentropy\", metrics = [\"accuracy\"])"
      ],
      "execution_count": 47,
      "outputs": []
    },
    {
      "cell_type": "markdown",
      "metadata": {
        "id": "gXr1pff-k7-H"
      },
      "source": [
        "**Fit the model**"
      ]
    },
    {
      "cell_type": "code",
      "metadata": {
        "colab": {
          "base_uri": "https://localhost:8080/"
        },
        "id": "wA6kUvSAirG0",
        "outputId": "7b01d393-4f4f-4a3d-fdd4-fd6d5f1521cf"
      },
      "source": [
        "model.fit(x_train,y_train,batch_size = 32 , epochs = 500 )"
      ],
      "execution_count": 48,
      "outputs": [
        {
          "output_type": "stream",
          "text": [
            "Epoch 1/500\n",
            "250/250 [==============================] - 1s 1ms/step - loss: 0.6522 - accuracy: 0.5815\n",
            "Epoch 2/500\n",
            "250/250 [==============================] - 0s 1ms/step - loss: 0.4647 - accuracy: 0.7919\n",
            "Epoch 3/500\n",
            "250/250 [==============================] - 0s 1ms/step - loss: 0.4272 - accuracy: 0.8030\n",
            "Epoch 4/500\n",
            "250/250 [==============================] - 0s 1ms/step - loss: 0.4237 - accuracy: 0.8093\n",
            "Epoch 5/500\n",
            "250/250 [==============================] - 0s 1ms/step - loss: 0.3938 - accuracy: 0.8372\n",
            "Epoch 6/500\n",
            "250/250 [==============================] - 0s 1ms/step - loss: 0.3786 - accuracy: 0.8410\n",
            "Epoch 7/500\n",
            "250/250 [==============================] - 0s 1ms/step - loss: 0.3626 - accuracy: 0.8478\n",
            "Epoch 8/500\n",
            "250/250 [==============================] - 0s 1ms/step - loss: 0.3632 - accuracy: 0.8498\n",
            "Epoch 9/500\n",
            "250/250 [==============================] - 0s 1ms/step - loss: 0.3492 - accuracy: 0.8571\n",
            "Epoch 10/500\n",
            "250/250 [==============================] - 0s 1ms/step - loss: 0.3441 - accuracy: 0.8541\n",
            "Epoch 11/500\n",
            "250/250 [==============================] - 0s 1ms/step - loss: 0.3430 - accuracy: 0.8609\n",
            "Epoch 12/500\n",
            "250/250 [==============================] - 0s 1ms/step - loss: 0.3364 - accuracy: 0.8632\n",
            "Epoch 13/500\n",
            "250/250 [==============================] - 0s 1ms/step - loss: 0.3548 - accuracy: 0.8504\n",
            "Epoch 14/500\n",
            "250/250 [==============================] - 0s 1ms/step - loss: 0.3462 - accuracy: 0.8565\n",
            "Epoch 15/500\n",
            "250/250 [==============================] - 0s 1ms/step - loss: 0.3451 - accuracy: 0.8576\n",
            "Epoch 16/500\n",
            "250/250 [==============================] - 0s 1ms/step - loss: 0.3439 - accuracy: 0.8574\n",
            "Epoch 17/500\n",
            "250/250 [==============================] - 0s 1ms/step - loss: 0.3411 - accuracy: 0.8580\n",
            "Epoch 18/500\n",
            "250/250 [==============================] - 0s 1ms/step - loss: 0.3462 - accuracy: 0.8518\n",
            "Epoch 19/500\n",
            "250/250 [==============================] - 0s 1ms/step - loss: 0.3423 - accuracy: 0.8554\n",
            "Epoch 20/500\n",
            "250/250 [==============================] - 0s 1ms/step - loss: 0.3385 - accuracy: 0.8610\n",
            "Epoch 21/500\n",
            "250/250 [==============================] - 0s 1ms/step - loss: 0.3398 - accuracy: 0.8603\n",
            "Epoch 22/500\n",
            "250/250 [==============================] - 0s 1ms/step - loss: 0.3461 - accuracy: 0.8573\n",
            "Epoch 23/500\n",
            "250/250 [==============================] - 0s 1ms/step - loss: 0.3359 - accuracy: 0.8596\n",
            "Epoch 24/500\n",
            "250/250 [==============================] - 0s 1ms/step - loss: 0.3453 - accuracy: 0.8581\n",
            "Epoch 25/500\n",
            "250/250 [==============================] - 0s 1ms/step - loss: 0.3450 - accuracy: 0.8547\n",
            "Epoch 26/500\n",
            "250/250 [==============================] - 0s 1ms/step - loss: 0.3396 - accuracy: 0.8568\n",
            "Epoch 27/500\n",
            "250/250 [==============================] - 0s 1ms/step - loss: 0.3405 - accuracy: 0.8538\n",
            "Epoch 28/500\n",
            "250/250 [==============================] - 0s 1ms/step - loss: 0.3474 - accuracy: 0.8519\n",
            "Epoch 29/500\n",
            "250/250 [==============================] - 0s 1ms/step - loss: 0.3349 - accuracy: 0.8606\n",
            "Epoch 30/500\n",
            "250/250 [==============================] - 0s 1ms/step - loss: 0.3417 - accuracy: 0.8595\n",
            "Epoch 31/500\n",
            "250/250 [==============================] - 0s 1ms/step - loss: 0.3249 - accuracy: 0.8657\n",
            "Epoch 32/500\n",
            "250/250 [==============================] - 0s 1ms/step - loss: 0.3512 - accuracy: 0.8510\n",
            "Epoch 33/500\n",
            "250/250 [==============================] - 0s 1ms/step - loss: 0.3364 - accuracy: 0.8606\n",
            "Epoch 34/500\n",
            "250/250 [==============================] - 0s 1ms/step - loss: 0.3332 - accuracy: 0.8627\n",
            "Epoch 35/500\n",
            "250/250 [==============================] - 0s 1ms/step - loss: 0.3343 - accuracy: 0.8590\n",
            "Epoch 36/500\n",
            "250/250 [==============================] - 0s 1ms/step - loss: 0.3374 - accuracy: 0.8608\n",
            "Epoch 37/500\n",
            "250/250 [==============================] - 0s 1ms/step - loss: 0.3333 - accuracy: 0.8614\n",
            "Epoch 38/500\n",
            "250/250 [==============================] - 0s 1ms/step - loss: 0.3332 - accuracy: 0.8605\n",
            "Epoch 39/500\n",
            "250/250 [==============================] - 0s 1ms/step - loss: 0.3274 - accuracy: 0.8676\n",
            "Epoch 40/500\n",
            "250/250 [==============================] - 0s 1ms/step - loss: 0.3334 - accuracy: 0.8629\n",
            "Epoch 41/500\n",
            "250/250 [==============================] - 0s 1ms/step - loss: 0.3341 - accuracy: 0.8626\n",
            "Epoch 42/500\n",
            "250/250 [==============================] - 0s 1ms/step - loss: 0.3316 - accuracy: 0.8585\n",
            "Epoch 43/500\n",
            "250/250 [==============================] - 0s 1ms/step - loss: 0.3435 - accuracy: 0.8546\n",
            "Epoch 44/500\n",
            "250/250 [==============================] - 0s 1ms/step - loss: 0.3329 - accuracy: 0.8611\n",
            "Epoch 45/500\n",
            "250/250 [==============================] - 0s 1ms/step - loss: 0.3273 - accuracy: 0.8644\n",
            "Epoch 46/500\n",
            "250/250 [==============================] - 0s 1ms/step - loss: 0.3265 - accuracy: 0.8643\n",
            "Epoch 47/500\n",
            "250/250 [==============================] - 0s 1ms/step - loss: 0.3356 - accuracy: 0.8560\n",
            "Epoch 48/500\n",
            "250/250 [==============================] - 0s 1ms/step - loss: 0.3322 - accuracy: 0.8562\n",
            "Epoch 49/500\n",
            "250/250 [==============================] - 0s 1ms/step - loss: 0.3294 - accuracy: 0.8633\n",
            "Epoch 50/500\n",
            "250/250 [==============================] - 0s 1ms/step - loss: 0.3298 - accuracy: 0.8630\n",
            "Epoch 51/500\n",
            "250/250 [==============================] - 0s 1ms/step - loss: 0.3326 - accuracy: 0.8619\n",
            "Epoch 52/500\n",
            "250/250 [==============================] - 0s 1ms/step - loss: 0.3205 - accuracy: 0.8666\n",
            "Epoch 53/500\n",
            "250/250 [==============================] - 0s 1ms/step - loss: 0.3313 - accuracy: 0.8635\n",
            "Epoch 54/500\n",
            "250/250 [==============================] - 0s 1ms/step - loss: 0.3186 - accuracy: 0.8720\n",
            "Epoch 55/500\n",
            "250/250 [==============================] - 0s 1ms/step - loss: 0.3248 - accuracy: 0.8661\n",
            "Epoch 56/500\n",
            "250/250 [==============================] - 0s 1ms/step - loss: 0.3287 - accuracy: 0.8651\n",
            "Epoch 57/500\n",
            "250/250 [==============================] - 0s 1ms/step - loss: 0.3336 - accuracy: 0.8576\n",
            "Epoch 58/500\n",
            "250/250 [==============================] - 0s 1ms/step - loss: 0.3305 - accuracy: 0.8634\n",
            "Epoch 59/500\n",
            "250/250 [==============================] - 0s 1ms/step - loss: 0.3380 - accuracy: 0.8568\n",
            "Epoch 60/500\n",
            "250/250 [==============================] - 0s 1ms/step - loss: 0.3250 - accuracy: 0.8673\n",
            "Epoch 61/500\n",
            "250/250 [==============================] - 0s 1ms/step - loss: 0.3264 - accuracy: 0.8649\n",
            "Epoch 62/500\n",
            "250/250 [==============================] - 0s 1ms/step - loss: 0.3381 - accuracy: 0.8585\n",
            "Epoch 63/500\n",
            "250/250 [==============================] - 0s 1ms/step - loss: 0.3296 - accuracy: 0.8599\n",
            "Epoch 64/500\n",
            "250/250 [==============================] - 0s 1ms/step - loss: 0.3360 - accuracy: 0.8594\n",
            "Epoch 65/500\n",
            "250/250 [==============================] - 0s 1ms/step - loss: 0.3376 - accuracy: 0.8598\n",
            "Epoch 66/500\n",
            "250/250 [==============================] - 0s 1ms/step - loss: 0.3420 - accuracy: 0.8568\n",
            "Epoch 67/500\n",
            "250/250 [==============================] - 0s 1ms/step - loss: 0.3443 - accuracy: 0.8571\n",
            "Epoch 68/500\n",
            "250/250 [==============================] - 0s 1ms/step - loss: 0.3226 - accuracy: 0.8675\n",
            "Epoch 69/500\n",
            "250/250 [==============================] - 0s 1ms/step - loss: 0.3316 - accuracy: 0.8617\n",
            "Epoch 70/500\n",
            "250/250 [==============================] - 0s 1ms/step - loss: 0.3318 - accuracy: 0.8627\n",
            "Epoch 71/500\n",
            "250/250 [==============================] - 0s 1ms/step - loss: 0.3341 - accuracy: 0.8595\n",
            "Epoch 72/500\n",
            "250/250 [==============================] - 0s 1ms/step - loss: 0.3145 - accuracy: 0.8711\n",
            "Epoch 73/500\n",
            "250/250 [==============================] - 0s 1ms/step - loss: 0.3236 - accuracy: 0.8693\n",
            "Epoch 74/500\n",
            "250/250 [==============================] - 0s 1ms/step - loss: 0.3278 - accuracy: 0.8632\n",
            "Epoch 75/500\n",
            "250/250 [==============================] - 0s 1ms/step - loss: 0.3357 - accuracy: 0.8627\n",
            "Epoch 76/500\n",
            "250/250 [==============================] - 0s 1ms/step - loss: 0.3372 - accuracy: 0.8612\n",
            "Epoch 77/500\n",
            "250/250 [==============================] - 0s 1ms/step - loss: 0.3287 - accuracy: 0.8619\n",
            "Epoch 78/500\n",
            "250/250 [==============================] - 0s 1ms/step - loss: 0.3221 - accuracy: 0.8666\n",
            "Epoch 79/500\n",
            "250/250 [==============================] - 0s 1ms/step - loss: 0.3465 - accuracy: 0.8574\n",
            "Epoch 80/500\n",
            "250/250 [==============================] - 0s 1ms/step - loss: 0.3258 - accuracy: 0.8667\n",
            "Epoch 81/500\n",
            "250/250 [==============================] - 0s 1ms/step - loss: 0.3289 - accuracy: 0.8636\n",
            "Epoch 82/500\n",
            "250/250 [==============================] - 0s 1ms/step - loss: 0.3313 - accuracy: 0.8602\n",
            "Epoch 83/500\n",
            "250/250 [==============================] - 0s 1ms/step - loss: 0.3309 - accuracy: 0.8615\n",
            "Epoch 84/500\n",
            "250/250 [==============================] - 0s 1ms/step - loss: 0.3330 - accuracy: 0.8601\n",
            "Epoch 85/500\n",
            "250/250 [==============================] - 0s 1ms/step - loss: 0.3273 - accuracy: 0.8639\n",
            "Epoch 86/500\n",
            "250/250 [==============================] - 0s 1ms/step - loss: 0.3194 - accuracy: 0.8653\n",
            "Epoch 87/500\n",
            "250/250 [==============================] - 0s 1ms/step - loss: 0.3306 - accuracy: 0.8612\n",
            "Epoch 88/500\n",
            "250/250 [==============================] - 0s 1ms/step - loss: 0.3287 - accuracy: 0.8631\n",
            "Epoch 89/500\n",
            "250/250 [==============================] - 0s 1ms/step - loss: 0.3276 - accuracy: 0.8646\n",
            "Epoch 90/500\n",
            "250/250 [==============================] - 0s 1ms/step - loss: 0.3236 - accuracy: 0.8647\n",
            "Epoch 91/500\n",
            "250/250 [==============================] - 0s 1ms/step - loss: 0.3308 - accuracy: 0.8610\n",
            "Epoch 92/500\n",
            "250/250 [==============================] - 0s 1ms/step - loss: 0.3235 - accuracy: 0.8653\n",
            "Epoch 93/500\n",
            "250/250 [==============================] - 0s 1ms/step - loss: 0.3297 - accuracy: 0.8651\n",
            "Epoch 94/500\n",
            "250/250 [==============================] - 0s 1ms/step - loss: 0.3155 - accuracy: 0.8664\n",
            "Epoch 95/500\n",
            "250/250 [==============================] - 0s 1ms/step - loss: 0.3295 - accuracy: 0.8608\n",
            "Epoch 96/500\n",
            "250/250 [==============================] - 0s 1ms/step - loss: 0.3319 - accuracy: 0.8610\n",
            "Epoch 97/500\n",
            "250/250 [==============================] - 0s 1ms/step - loss: 0.3304 - accuracy: 0.8600\n",
            "Epoch 98/500\n",
            "250/250 [==============================] - 0s 1ms/step - loss: 0.3218 - accuracy: 0.8679\n",
            "Epoch 99/500\n",
            "250/250 [==============================] - 0s 1ms/step - loss: 0.3380 - accuracy: 0.8567\n",
            "Epoch 100/500\n",
            "250/250 [==============================] - 0s 1ms/step - loss: 0.3296 - accuracy: 0.8591\n",
            "Epoch 101/500\n",
            "250/250 [==============================] - 0s 1ms/step - loss: 0.3275 - accuracy: 0.8602\n",
            "Epoch 102/500\n",
            "250/250 [==============================] - 0s 1ms/step - loss: 0.3308 - accuracy: 0.8629\n",
            "Epoch 103/500\n",
            "250/250 [==============================] - 0s 1ms/step - loss: 0.3237 - accuracy: 0.8627\n",
            "Epoch 104/500\n",
            "250/250 [==============================] - 0s 1ms/step - loss: 0.3294 - accuracy: 0.8613\n",
            "Epoch 105/500\n",
            "250/250 [==============================] - 0s 1ms/step - loss: 0.3296 - accuracy: 0.8606\n",
            "Epoch 106/500\n",
            "250/250 [==============================] - 0s 1ms/step - loss: 0.3246 - accuracy: 0.8634\n",
            "Epoch 107/500\n",
            "250/250 [==============================] - 0s 1ms/step - loss: 0.3270 - accuracy: 0.8620\n",
            "Epoch 108/500\n",
            "250/250 [==============================] - 0s 1ms/step - loss: 0.3341 - accuracy: 0.8593\n",
            "Epoch 109/500\n",
            "250/250 [==============================] - 0s 1ms/step - loss: 0.3228 - accuracy: 0.8671\n",
            "Epoch 110/500\n",
            "250/250 [==============================] - 0s 1ms/step - loss: 0.3395 - accuracy: 0.8515\n",
            "Epoch 111/500\n",
            "250/250 [==============================] - 0s 1ms/step - loss: 0.3312 - accuracy: 0.8589\n",
            "Epoch 112/500\n",
            "250/250 [==============================] - 0s 1ms/step - loss: 0.3270 - accuracy: 0.8612\n",
            "Epoch 113/500\n",
            "250/250 [==============================] - 0s 1ms/step - loss: 0.3203 - accuracy: 0.8628\n",
            "Epoch 114/500\n",
            "250/250 [==============================] - 0s 1ms/step - loss: 0.3206 - accuracy: 0.8658\n",
            "Epoch 115/500\n",
            "250/250 [==============================] - 0s 1ms/step - loss: 0.3317 - accuracy: 0.8608\n",
            "Epoch 116/500\n",
            "250/250 [==============================] - 0s 1ms/step - loss: 0.3258 - accuracy: 0.8581\n",
            "Epoch 117/500\n",
            "250/250 [==============================] - 0s 1ms/step - loss: 0.3338 - accuracy: 0.8594\n",
            "Epoch 118/500\n",
            "250/250 [==============================] - 0s 1ms/step - loss: 0.3352 - accuracy: 0.8583\n",
            "Epoch 119/500\n",
            "250/250 [==============================] - 0s 1ms/step - loss: 0.3213 - accuracy: 0.8667\n",
            "Epoch 120/500\n",
            "250/250 [==============================] - 0s 1ms/step - loss: 0.3201 - accuracy: 0.8658\n",
            "Epoch 121/500\n",
            "250/250 [==============================] - 0s 1ms/step - loss: 0.3227 - accuracy: 0.8681\n",
            "Epoch 122/500\n",
            "250/250 [==============================] - 0s 1ms/step - loss: 0.3321 - accuracy: 0.8547\n",
            "Epoch 123/500\n",
            "250/250 [==============================] - 0s 1ms/step - loss: 0.3266 - accuracy: 0.8634\n",
            "Epoch 124/500\n",
            "250/250 [==============================] - 0s 1ms/step - loss: 0.3304 - accuracy: 0.8588\n",
            "Epoch 125/500\n",
            "250/250 [==============================] - 0s 1ms/step - loss: 0.3261 - accuracy: 0.8611\n",
            "Epoch 126/500\n",
            "250/250 [==============================] - 0s 1ms/step - loss: 0.3315 - accuracy: 0.8644\n",
            "Epoch 127/500\n",
            "250/250 [==============================] - 0s 1ms/step - loss: 0.3384 - accuracy: 0.8535\n",
            "Epoch 128/500\n",
            "250/250 [==============================] - 0s 1ms/step - loss: 0.3286 - accuracy: 0.8617\n",
            "Epoch 129/500\n",
            "250/250 [==============================] - 0s 1ms/step - loss: 0.3368 - accuracy: 0.8589\n",
            "Epoch 130/500\n",
            "250/250 [==============================] - 0s 1ms/step - loss: 0.3185 - accuracy: 0.8673\n",
            "Epoch 131/500\n",
            "250/250 [==============================] - 0s 1ms/step - loss: 0.3207 - accuracy: 0.8696\n",
            "Epoch 132/500\n",
            "250/250 [==============================] - 0s 1ms/step - loss: 0.3207 - accuracy: 0.8673\n",
            "Epoch 133/500\n",
            "250/250 [==============================] - 0s 1ms/step - loss: 0.3217 - accuracy: 0.8691\n",
            "Epoch 134/500\n",
            "250/250 [==============================] - 0s 1ms/step - loss: 0.3285 - accuracy: 0.8637\n",
            "Epoch 135/500\n",
            "250/250 [==============================] - 0s 1ms/step - loss: 0.3366 - accuracy: 0.8579\n",
            "Epoch 136/500\n",
            "250/250 [==============================] - 0s 1ms/step - loss: 0.3259 - accuracy: 0.8643\n",
            "Epoch 137/500\n",
            "250/250 [==============================] - 0s 1ms/step - loss: 0.3303 - accuracy: 0.8607\n",
            "Epoch 138/500\n",
            "250/250 [==============================] - 0s 1ms/step - loss: 0.3159 - accuracy: 0.8686\n",
            "Epoch 139/500\n",
            "250/250 [==============================] - 0s 1ms/step - loss: 0.3225 - accuracy: 0.8652\n",
            "Epoch 140/500\n",
            "250/250 [==============================] - 0s 1ms/step - loss: 0.3301 - accuracy: 0.8646\n",
            "Epoch 141/500\n",
            "250/250 [==============================] - 0s 1ms/step - loss: 0.3312 - accuracy: 0.8603\n",
            "Epoch 142/500\n",
            "250/250 [==============================] - 0s 1ms/step - loss: 0.3256 - accuracy: 0.8603\n",
            "Epoch 143/500\n",
            "250/250 [==============================] - 0s 1ms/step - loss: 0.3327 - accuracy: 0.8585\n",
            "Epoch 144/500\n",
            "250/250 [==============================] - 0s 1ms/step - loss: 0.3348 - accuracy: 0.8587\n",
            "Epoch 145/500\n",
            "250/250 [==============================] - 0s 1ms/step - loss: 0.3146 - accuracy: 0.8709\n",
            "Epoch 146/500\n",
            "250/250 [==============================] - 0s 1ms/step - loss: 0.3291 - accuracy: 0.8619\n",
            "Epoch 147/500\n",
            "250/250 [==============================] - 0s 1ms/step - loss: 0.3211 - accuracy: 0.8691\n",
            "Epoch 148/500\n",
            "250/250 [==============================] - 0s 1ms/step - loss: 0.3238 - accuracy: 0.8684\n",
            "Epoch 149/500\n",
            "250/250 [==============================] - 0s 1ms/step - loss: 0.3292 - accuracy: 0.8630\n",
            "Epoch 150/500\n",
            "250/250 [==============================] - 0s 1ms/step - loss: 0.3266 - accuracy: 0.8670\n",
            "Epoch 151/500\n",
            "250/250 [==============================] - 0s 1ms/step - loss: 0.3277 - accuracy: 0.8624\n",
            "Epoch 152/500\n",
            "250/250 [==============================] - 0s 1ms/step - loss: 0.3231 - accuracy: 0.8647\n",
            "Epoch 153/500\n",
            "250/250 [==============================] - 0s 1ms/step - loss: 0.3288 - accuracy: 0.8646\n",
            "Epoch 154/500\n",
            "250/250 [==============================] - 0s 1ms/step - loss: 0.3298 - accuracy: 0.8648\n",
            "Epoch 155/500\n",
            "250/250 [==============================] - 0s 1ms/step - loss: 0.3211 - accuracy: 0.8729\n",
            "Epoch 156/500\n",
            "250/250 [==============================] - 0s 1ms/step - loss: 0.3309 - accuracy: 0.8618\n",
            "Epoch 157/500\n",
            "250/250 [==============================] - 0s 1ms/step - loss: 0.3220 - accuracy: 0.8639\n",
            "Epoch 158/500\n",
            "250/250 [==============================] - 0s 1ms/step - loss: 0.3234 - accuracy: 0.8642\n",
            "Epoch 159/500\n",
            "250/250 [==============================] - 0s 1ms/step - loss: 0.3276 - accuracy: 0.8684\n",
            "Epoch 160/500\n",
            "250/250 [==============================] - 0s 1ms/step - loss: 0.3294 - accuracy: 0.8605\n",
            "Epoch 161/500\n",
            "250/250 [==============================] - 0s 1ms/step - loss: 0.3311 - accuracy: 0.8611\n",
            "Epoch 162/500\n",
            "250/250 [==============================] - 0s 1ms/step - loss: 0.3247 - accuracy: 0.8608\n",
            "Epoch 163/500\n",
            "250/250 [==============================] - 0s 1ms/step - loss: 0.3344 - accuracy: 0.8591\n",
            "Epoch 164/500\n",
            "250/250 [==============================] - 0s 1ms/step - loss: 0.3271 - accuracy: 0.8629\n",
            "Epoch 165/500\n",
            "250/250 [==============================] - 0s 1ms/step - loss: 0.3199 - accuracy: 0.8626\n",
            "Epoch 166/500\n",
            "250/250 [==============================] - 0s 1ms/step - loss: 0.3242 - accuracy: 0.8684\n",
            "Epoch 167/500\n",
            "250/250 [==============================] - 0s 1ms/step - loss: 0.3196 - accuracy: 0.8711\n",
            "Epoch 168/500\n",
            "250/250 [==============================] - 0s 1ms/step - loss: 0.3302 - accuracy: 0.8596\n",
            "Epoch 169/500\n",
            "250/250 [==============================] - 0s 1ms/step - loss: 0.3230 - accuracy: 0.8671\n",
            "Epoch 170/500\n",
            "250/250 [==============================] - 0s 1ms/step - loss: 0.3237 - accuracy: 0.8676\n",
            "Epoch 171/500\n",
            "250/250 [==============================] - 0s 1ms/step - loss: 0.3238 - accuracy: 0.8657\n",
            "Epoch 172/500\n",
            "250/250 [==============================] - 0s 1ms/step - loss: 0.3253 - accuracy: 0.8638\n",
            "Epoch 173/500\n",
            "250/250 [==============================] - 0s 1ms/step - loss: 0.3310 - accuracy: 0.8582\n",
            "Epoch 174/500\n",
            "250/250 [==============================] - 0s 1ms/step - loss: 0.3373 - accuracy: 0.8589\n",
            "Epoch 175/500\n",
            "250/250 [==============================] - 0s 1ms/step - loss: 0.3235 - accuracy: 0.8644\n",
            "Epoch 176/500\n",
            "250/250 [==============================] - 0s 1ms/step - loss: 0.3176 - accuracy: 0.8689\n",
            "Epoch 177/500\n",
            "250/250 [==============================] - 0s 1ms/step - loss: 0.3258 - accuracy: 0.8593\n",
            "Epoch 178/500\n",
            "250/250 [==============================] - 0s 1ms/step - loss: 0.3266 - accuracy: 0.8648\n",
            "Epoch 179/500\n",
            "250/250 [==============================] - 0s 1ms/step - loss: 0.3202 - accuracy: 0.8644\n",
            "Epoch 180/500\n",
            "250/250 [==============================] - 0s 1ms/step - loss: 0.3270 - accuracy: 0.8643\n",
            "Epoch 181/500\n",
            "250/250 [==============================] - 0s 1ms/step - loss: 0.3224 - accuracy: 0.8655\n",
            "Epoch 182/500\n",
            "250/250 [==============================] - 0s 1ms/step - loss: 0.3212 - accuracy: 0.8666\n",
            "Epoch 183/500\n",
            "250/250 [==============================] - 0s 1ms/step - loss: 0.3252 - accuracy: 0.8665\n",
            "Epoch 184/500\n",
            "250/250 [==============================] - 0s 1ms/step - loss: 0.3118 - accuracy: 0.8674\n",
            "Epoch 185/500\n",
            "250/250 [==============================] - 0s 1ms/step - loss: 0.3313 - accuracy: 0.8577\n",
            "Epoch 186/500\n",
            "250/250 [==============================] - 0s 1ms/step - loss: 0.3183 - accuracy: 0.8696\n",
            "Epoch 187/500\n",
            "250/250 [==============================] - 0s 1ms/step - loss: 0.3287 - accuracy: 0.8624\n",
            "Epoch 188/500\n",
            "250/250 [==============================] - 0s 1ms/step - loss: 0.3183 - accuracy: 0.8668\n",
            "Epoch 189/500\n",
            "250/250 [==============================] - 0s 1ms/step - loss: 0.3227 - accuracy: 0.8613\n",
            "Epoch 190/500\n",
            "250/250 [==============================] - 0s 1ms/step - loss: 0.3251 - accuracy: 0.8605\n",
            "Epoch 191/500\n",
            "250/250 [==============================] - 0s 1ms/step - loss: 0.3238 - accuracy: 0.8632\n",
            "Epoch 192/500\n",
            "250/250 [==============================] - 0s 1ms/step - loss: 0.3210 - accuracy: 0.8673\n",
            "Epoch 193/500\n",
            "250/250 [==============================] - 0s 1ms/step - loss: 0.3286 - accuracy: 0.8605\n",
            "Epoch 194/500\n",
            "250/250 [==============================] - 0s 1ms/step - loss: 0.3345 - accuracy: 0.8564\n",
            "Epoch 195/500\n",
            "250/250 [==============================] - 0s 1ms/step - loss: 0.3171 - accuracy: 0.8669\n",
            "Epoch 196/500\n",
            "250/250 [==============================] - 0s 1ms/step - loss: 0.3330 - accuracy: 0.8575\n",
            "Epoch 197/500\n",
            "250/250 [==============================] - 0s 1ms/step - loss: 0.3259 - accuracy: 0.8655\n",
            "Epoch 198/500\n",
            "250/250 [==============================] - 0s 1ms/step - loss: 0.3235 - accuracy: 0.8675\n",
            "Epoch 199/500\n",
            "250/250 [==============================] - 0s 1ms/step - loss: 0.3207 - accuracy: 0.8654\n",
            "Epoch 200/500\n",
            "250/250 [==============================] - 0s 1ms/step - loss: 0.3264 - accuracy: 0.8672\n",
            "Epoch 201/500\n",
            "250/250 [==============================] - 0s 1ms/step - loss: 0.3293 - accuracy: 0.8613\n",
            "Epoch 202/500\n",
            "250/250 [==============================] - 0s 1ms/step - loss: 0.3273 - accuracy: 0.8637\n",
            "Epoch 203/500\n",
            "250/250 [==============================] - 0s 1ms/step - loss: 0.3284 - accuracy: 0.8578\n",
            "Epoch 204/500\n",
            "250/250 [==============================] - 0s 1ms/step - loss: 0.3202 - accuracy: 0.8626\n",
            "Epoch 205/500\n",
            "250/250 [==============================] - 0s 1ms/step - loss: 0.3241 - accuracy: 0.8677\n",
            "Epoch 206/500\n",
            "250/250 [==============================] - 0s 1ms/step - loss: 0.3325 - accuracy: 0.8601\n",
            "Epoch 207/500\n",
            "250/250 [==============================] - 0s 1ms/step - loss: 0.3392 - accuracy: 0.8569\n",
            "Epoch 208/500\n",
            "250/250 [==============================] - 0s 1ms/step - loss: 0.3143 - accuracy: 0.8707\n",
            "Epoch 209/500\n",
            "250/250 [==============================] - 0s 1ms/step - loss: 0.3172 - accuracy: 0.8690\n",
            "Epoch 210/500\n",
            "250/250 [==============================] - 0s 1ms/step - loss: 0.3197 - accuracy: 0.8612\n",
            "Epoch 211/500\n",
            "250/250 [==============================] - 0s 1ms/step - loss: 0.3272 - accuracy: 0.8627\n",
            "Epoch 212/500\n",
            "250/250 [==============================] - 0s 1ms/step - loss: 0.3171 - accuracy: 0.8727\n",
            "Epoch 213/500\n",
            "250/250 [==============================] - 0s 1ms/step - loss: 0.3226 - accuracy: 0.8673\n",
            "Epoch 214/500\n",
            "250/250 [==============================] - 0s 1ms/step - loss: 0.3208 - accuracy: 0.8674\n",
            "Epoch 215/500\n",
            "250/250 [==============================] - 0s 1ms/step - loss: 0.3192 - accuracy: 0.8696\n",
            "Epoch 216/500\n",
            "250/250 [==============================] - 0s 1ms/step - loss: 0.3273 - accuracy: 0.8661\n",
            "Epoch 217/500\n",
            "250/250 [==============================] - 0s 1ms/step - loss: 0.3311 - accuracy: 0.8611\n",
            "Epoch 218/500\n",
            "250/250 [==============================] - 0s 1ms/step - loss: 0.3140 - accuracy: 0.8686\n",
            "Epoch 219/500\n",
            "250/250 [==============================] - 0s 1ms/step - loss: 0.3321 - accuracy: 0.8584\n",
            "Epoch 220/500\n",
            "250/250 [==============================] - 0s 1ms/step - loss: 0.3215 - accuracy: 0.8629\n",
            "Epoch 221/500\n",
            "250/250 [==============================] - 0s 1ms/step - loss: 0.3263 - accuracy: 0.8634\n",
            "Epoch 222/500\n",
            "250/250 [==============================] - 0s 1ms/step - loss: 0.3222 - accuracy: 0.8628\n",
            "Epoch 223/500\n",
            "250/250 [==============================] - 0s 1ms/step - loss: 0.3293 - accuracy: 0.8588\n",
            "Epoch 224/500\n",
            "250/250 [==============================] - 0s 1ms/step - loss: 0.3248 - accuracy: 0.8631\n",
            "Epoch 225/500\n",
            "250/250 [==============================] - 0s 1ms/step - loss: 0.3186 - accuracy: 0.8701\n",
            "Epoch 226/500\n",
            "250/250 [==============================] - 0s 1ms/step - loss: 0.3124 - accuracy: 0.8690\n",
            "Epoch 227/500\n",
            "250/250 [==============================] - 0s 1ms/step - loss: 0.3163 - accuracy: 0.8671\n",
            "Epoch 228/500\n",
            "250/250 [==============================] - 0s 1ms/step - loss: 0.3172 - accuracy: 0.8657\n",
            "Epoch 229/500\n",
            "250/250 [==============================] - 0s 1ms/step - loss: 0.3308 - accuracy: 0.8572\n",
            "Epoch 230/500\n",
            "250/250 [==============================] - 0s 1ms/step - loss: 0.3183 - accuracy: 0.8646\n",
            "Epoch 231/500\n",
            "250/250 [==============================] - 0s 1ms/step - loss: 0.3095 - accuracy: 0.8738\n",
            "Epoch 232/500\n",
            "250/250 [==============================] - 0s 1ms/step - loss: 0.3185 - accuracy: 0.8646\n",
            "Epoch 233/500\n",
            "250/250 [==============================] - 0s 1ms/step - loss: 0.3273 - accuracy: 0.8634\n",
            "Epoch 234/500\n",
            "250/250 [==============================] - 0s 1ms/step - loss: 0.3181 - accuracy: 0.8683\n",
            "Epoch 235/500\n",
            "250/250 [==============================] - 0s 1ms/step - loss: 0.3331 - accuracy: 0.8546\n",
            "Epoch 236/500\n",
            "250/250 [==============================] - 0s 1ms/step - loss: 0.3081 - accuracy: 0.8701\n",
            "Epoch 237/500\n",
            "250/250 [==============================] - 0s 1ms/step - loss: 0.3089 - accuracy: 0.8711\n",
            "Epoch 238/500\n",
            "250/250 [==============================] - 0s 1ms/step - loss: 0.3326 - accuracy: 0.8631\n",
            "Epoch 239/500\n",
            "250/250 [==============================] - 0s 1ms/step - loss: 0.3284 - accuracy: 0.8618\n",
            "Epoch 240/500\n",
            "250/250 [==============================] - 0s 1ms/step - loss: 0.3168 - accuracy: 0.8696\n",
            "Epoch 241/500\n",
            "250/250 [==============================] - 0s 1ms/step - loss: 0.3220 - accuracy: 0.8699\n",
            "Epoch 242/500\n",
            "250/250 [==============================] - 0s 1ms/step - loss: 0.3225 - accuracy: 0.8644\n",
            "Epoch 243/500\n",
            "250/250 [==============================] - 0s 1ms/step - loss: 0.3393 - accuracy: 0.8578\n",
            "Epoch 244/500\n",
            "250/250 [==============================] - 0s 1ms/step - loss: 0.3278 - accuracy: 0.8616\n",
            "Epoch 245/500\n",
            "250/250 [==============================] - 0s 1ms/step - loss: 0.3248 - accuracy: 0.8669\n",
            "Epoch 246/500\n",
            "250/250 [==============================] - 0s 1ms/step - loss: 0.3280 - accuracy: 0.8644\n",
            "Epoch 247/500\n",
            "250/250 [==============================] - 0s 1ms/step - loss: 0.3198 - accuracy: 0.8656\n",
            "Epoch 248/500\n",
            "250/250 [==============================] - 0s 1ms/step - loss: 0.3336 - accuracy: 0.8579\n",
            "Epoch 249/500\n",
            "250/250 [==============================] - 0s 1ms/step - loss: 0.3278 - accuracy: 0.8576\n",
            "Epoch 250/500\n",
            "250/250 [==============================] - 0s 1ms/step - loss: 0.3188 - accuracy: 0.8664\n",
            "Epoch 251/500\n",
            "250/250 [==============================] - 0s 1ms/step - loss: 0.3205 - accuracy: 0.8624\n",
            "Epoch 252/500\n",
            "250/250 [==============================] - 0s 1ms/step - loss: 0.3273 - accuracy: 0.8621\n",
            "Epoch 253/500\n",
            "250/250 [==============================] - 0s 1ms/step - loss: 0.3294 - accuracy: 0.8621\n",
            "Epoch 254/500\n",
            "250/250 [==============================] - 0s 1ms/step - loss: 0.3140 - accuracy: 0.8661\n",
            "Epoch 255/500\n",
            "250/250 [==============================] - 0s 1ms/step - loss: 0.3235 - accuracy: 0.8640\n",
            "Epoch 256/500\n",
            "250/250 [==============================] - 0s 1ms/step - loss: 0.3319 - accuracy: 0.8597\n",
            "Epoch 257/500\n",
            "250/250 [==============================] - 0s 1ms/step - loss: 0.3171 - accuracy: 0.8709\n",
            "Epoch 258/500\n",
            "250/250 [==============================] - 0s 1ms/step - loss: 0.3228 - accuracy: 0.8649\n",
            "Epoch 259/500\n",
            "250/250 [==============================] - 0s 1ms/step - loss: 0.3266 - accuracy: 0.8653\n",
            "Epoch 260/500\n",
            "250/250 [==============================] - 0s 1ms/step - loss: 0.3180 - accuracy: 0.8678\n",
            "Epoch 261/500\n",
            "250/250 [==============================] - 0s 1ms/step - loss: 0.3196 - accuracy: 0.8622\n",
            "Epoch 262/500\n",
            "250/250 [==============================] - 0s 1ms/step - loss: 0.3198 - accuracy: 0.8669\n",
            "Epoch 263/500\n",
            "250/250 [==============================] - 0s 1ms/step - loss: 0.3271 - accuracy: 0.8614\n",
            "Epoch 264/500\n",
            "250/250 [==============================] - 0s 1ms/step - loss: 0.3124 - accuracy: 0.8710\n",
            "Epoch 265/500\n",
            "250/250 [==============================] - 0s 1ms/step - loss: 0.3225 - accuracy: 0.8635\n",
            "Epoch 266/500\n",
            "250/250 [==============================] - 0s 1ms/step - loss: 0.3265 - accuracy: 0.8646\n",
            "Epoch 267/500\n",
            "250/250 [==============================] - 0s 1ms/step - loss: 0.3308 - accuracy: 0.8633\n",
            "Epoch 268/500\n",
            "250/250 [==============================] - 0s 1ms/step - loss: 0.3198 - accuracy: 0.8671\n",
            "Epoch 269/500\n",
            "250/250 [==============================] - 0s 1ms/step - loss: 0.3253 - accuracy: 0.8612\n",
            "Epoch 270/500\n",
            "250/250 [==============================] - 0s 1ms/step - loss: 0.3150 - accuracy: 0.8688\n",
            "Epoch 271/500\n",
            "250/250 [==============================] - 0s 1ms/step - loss: 0.3107 - accuracy: 0.8703\n",
            "Epoch 272/500\n",
            "250/250 [==============================] - 0s 1ms/step - loss: 0.3325 - accuracy: 0.8578\n",
            "Epoch 273/500\n",
            "250/250 [==============================] - 0s 1ms/step - loss: 0.3273 - accuracy: 0.8624\n",
            "Epoch 274/500\n",
            "250/250 [==============================] - 0s 1ms/step - loss: 0.3204 - accuracy: 0.8637\n",
            "Epoch 275/500\n",
            "250/250 [==============================] - 0s 1ms/step - loss: 0.3195 - accuracy: 0.8656\n",
            "Epoch 276/500\n",
            "250/250 [==============================] - 0s 1ms/step - loss: 0.3168 - accuracy: 0.8661\n",
            "Epoch 277/500\n",
            "250/250 [==============================] - 0s 1ms/step - loss: 0.3195 - accuracy: 0.8654\n",
            "Epoch 278/500\n",
            "250/250 [==============================] - 0s 1ms/step - loss: 0.3154 - accuracy: 0.8695\n",
            "Epoch 279/500\n",
            "250/250 [==============================] - 0s 1ms/step - loss: 0.3303 - accuracy: 0.8564\n",
            "Epoch 280/500\n",
            "250/250 [==============================] - 0s 1ms/step - loss: 0.3217 - accuracy: 0.8693\n",
            "Epoch 281/500\n",
            "250/250 [==============================] - 0s 1ms/step - loss: 0.3208 - accuracy: 0.8649\n",
            "Epoch 282/500\n",
            "250/250 [==============================] - 0s 1ms/step - loss: 0.3253 - accuracy: 0.8645\n",
            "Epoch 283/500\n",
            "250/250 [==============================] - 0s 1ms/step - loss: 0.3176 - accuracy: 0.8669\n",
            "Epoch 284/500\n",
            "250/250 [==============================] - 0s 1ms/step - loss: 0.3245 - accuracy: 0.8616\n",
            "Epoch 285/500\n",
            "250/250 [==============================] - 0s 1ms/step - loss: 0.3267 - accuracy: 0.8595\n",
            "Epoch 286/500\n",
            "250/250 [==============================] - 0s 1ms/step - loss: 0.3156 - accuracy: 0.8652\n",
            "Epoch 287/500\n",
            "250/250 [==============================] - 0s 1ms/step - loss: 0.3221 - accuracy: 0.8640\n",
            "Epoch 288/500\n",
            "250/250 [==============================] - 0s 1ms/step - loss: 0.3200 - accuracy: 0.8690\n",
            "Epoch 289/500\n",
            "250/250 [==============================] - 0s 1ms/step - loss: 0.3276 - accuracy: 0.8616\n",
            "Epoch 290/500\n",
            "250/250 [==============================] - 0s 1ms/step - loss: 0.3180 - accuracy: 0.8663\n",
            "Epoch 291/500\n",
            "250/250 [==============================] - 0s 1ms/step - loss: 0.3187 - accuracy: 0.8660\n",
            "Epoch 292/500\n",
            "250/250 [==============================] - 0s 1ms/step - loss: 0.3179 - accuracy: 0.8685\n",
            "Epoch 293/500\n",
            "250/250 [==============================] - 0s 1ms/step - loss: 0.3145 - accuracy: 0.8707\n",
            "Epoch 294/500\n",
            "250/250 [==============================] - 0s 1ms/step - loss: 0.3134 - accuracy: 0.8727\n",
            "Epoch 295/500\n",
            "250/250 [==============================] - 0s 1ms/step - loss: 0.3221 - accuracy: 0.8712\n",
            "Epoch 296/500\n",
            "250/250 [==============================] - 0s 1ms/step - loss: 0.3287 - accuracy: 0.8589\n",
            "Epoch 297/500\n",
            "250/250 [==============================] - 0s 1ms/step - loss: 0.3237 - accuracy: 0.8632\n",
            "Epoch 298/500\n",
            "250/250 [==============================] - 0s 1ms/step - loss: 0.3147 - accuracy: 0.8693\n",
            "Epoch 299/500\n",
            "250/250 [==============================] - 0s 1ms/step - loss: 0.3101 - accuracy: 0.8721\n",
            "Epoch 300/500\n",
            "250/250 [==============================] - 0s 1ms/step - loss: 0.3081 - accuracy: 0.8702\n",
            "Epoch 301/500\n",
            "250/250 [==============================] - 0s 1ms/step - loss: 0.3400 - accuracy: 0.8555\n",
            "Epoch 302/500\n",
            "250/250 [==============================] - 0s 1ms/step - loss: 0.3218 - accuracy: 0.8655\n",
            "Epoch 303/500\n",
            "250/250 [==============================] - 0s 1ms/step - loss: 0.3224 - accuracy: 0.8673\n",
            "Epoch 304/500\n",
            "250/250 [==============================] - 0s 1ms/step - loss: 0.3278 - accuracy: 0.8625\n",
            "Epoch 305/500\n",
            "250/250 [==============================] - 0s 1ms/step - loss: 0.3170 - accuracy: 0.8690\n",
            "Epoch 306/500\n",
            "250/250 [==============================] - 0s 1ms/step - loss: 0.3195 - accuracy: 0.8649\n",
            "Epoch 307/500\n",
            "250/250 [==============================] - 0s 1ms/step - loss: 0.3138 - accuracy: 0.8668\n",
            "Epoch 308/500\n",
            "250/250 [==============================] - 0s 1ms/step - loss: 0.3343 - accuracy: 0.8576\n",
            "Epoch 309/500\n",
            "250/250 [==============================] - 0s 1ms/step - loss: 0.3254 - accuracy: 0.8664\n",
            "Epoch 310/500\n",
            "250/250 [==============================] - 0s 1ms/step - loss: 0.3193 - accuracy: 0.8640\n",
            "Epoch 311/500\n",
            "250/250 [==============================] - 0s 1ms/step - loss: 0.3227 - accuracy: 0.8652\n",
            "Epoch 312/500\n",
            "250/250 [==============================] - 0s 1ms/step - loss: 0.3249 - accuracy: 0.8679\n",
            "Epoch 313/500\n",
            "250/250 [==============================] - 0s 1ms/step - loss: 0.3184 - accuracy: 0.8703\n",
            "Epoch 314/500\n",
            "250/250 [==============================] - 0s 1ms/step - loss: 0.3332 - accuracy: 0.8615\n",
            "Epoch 315/500\n",
            "250/250 [==============================] - 0s 1ms/step - loss: 0.3288 - accuracy: 0.8621\n",
            "Epoch 316/500\n",
            "250/250 [==============================] - 0s 1ms/step - loss: 0.3183 - accuracy: 0.8700\n",
            "Epoch 317/500\n",
            "250/250 [==============================] - 0s 1ms/step - loss: 0.3196 - accuracy: 0.8664\n",
            "Epoch 318/500\n",
            "250/250 [==============================] - 0s 1ms/step - loss: 0.3169 - accuracy: 0.8645\n",
            "Epoch 319/500\n",
            "250/250 [==============================] - 0s 1ms/step - loss: 0.3181 - accuracy: 0.8657\n",
            "Epoch 320/500\n",
            "250/250 [==============================] - 0s 1ms/step - loss: 0.3157 - accuracy: 0.8704\n",
            "Epoch 321/500\n",
            "250/250 [==============================] - 0s 1ms/step - loss: 0.3251 - accuracy: 0.8629\n",
            "Epoch 322/500\n",
            "250/250 [==============================] - 0s 1ms/step - loss: 0.3120 - accuracy: 0.8741\n",
            "Epoch 323/500\n",
            "250/250 [==============================] - 0s 1ms/step - loss: 0.3256 - accuracy: 0.8626\n",
            "Epoch 324/500\n",
            "250/250 [==============================] - 0s 1ms/step - loss: 0.3226 - accuracy: 0.8634\n",
            "Epoch 325/500\n",
            "250/250 [==============================] - 0s 1ms/step - loss: 0.3304 - accuracy: 0.8562\n",
            "Epoch 326/500\n",
            "250/250 [==============================] - 0s 1ms/step - loss: 0.3222 - accuracy: 0.8674\n",
            "Epoch 327/500\n",
            "250/250 [==============================] - 0s 1ms/step - loss: 0.3240 - accuracy: 0.8643\n",
            "Epoch 328/500\n",
            "250/250 [==============================] - 0s 1ms/step - loss: 0.3171 - accuracy: 0.8676\n",
            "Epoch 329/500\n",
            "250/250 [==============================] - 0s 1ms/step - loss: 0.3129 - accuracy: 0.8699\n",
            "Epoch 330/500\n",
            "250/250 [==============================] - 0s 1ms/step - loss: 0.3395 - accuracy: 0.8537\n",
            "Epoch 331/500\n",
            "250/250 [==============================] - 0s 1ms/step - loss: 0.3256 - accuracy: 0.8617\n",
            "Epoch 332/500\n",
            "250/250 [==============================] - 0s 1ms/step - loss: 0.3122 - accuracy: 0.8687\n",
            "Epoch 333/500\n",
            "250/250 [==============================] - 0s 1ms/step - loss: 0.3337 - accuracy: 0.8595\n",
            "Epoch 334/500\n",
            "250/250 [==============================] - 0s 1ms/step - loss: 0.3229 - accuracy: 0.8651\n",
            "Epoch 335/500\n",
            "250/250 [==============================] - 0s 1ms/step - loss: 0.3194 - accuracy: 0.8675\n",
            "Epoch 336/500\n",
            "250/250 [==============================] - 0s 1ms/step - loss: 0.3121 - accuracy: 0.8705\n",
            "Epoch 337/500\n",
            "250/250 [==============================] - 0s 1ms/step - loss: 0.3287 - accuracy: 0.8618\n",
            "Epoch 338/500\n",
            "250/250 [==============================] - 0s 1ms/step - loss: 0.3190 - accuracy: 0.8652\n",
            "Epoch 339/500\n",
            "250/250 [==============================] - 0s 1ms/step - loss: 0.3229 - accuracy: 0.8690\n",
            "Epoch 340/500\n",
            "250/250 [==============================] - 0s 1ms/step - loss: 0.3185 - accuracy: 0.8642\n",
            "Epoch 341/500\n",
            "250/250 [==============================] - 0s 1ms/step - loss: 0.3285 - accuracy: 0.8618\n",
            "Epoch 342/500\n",
            "250/250 [==============================] - 0s 1ms/step - loss: 0.3297 - accuracy: 0.8605\n",
            "Epoch 343/500\n",
            "250/250 [==============================] - 0s 1ms/step - loss: 0.3254 - accuracy: 0.8639\n",
            "Epoch 344/500\n",
            "250/250 [==============================] - 0s 1ms/step - loss: 0.3177 - accuracy: 0.8651\n",
            "Epoch 345/500\n",
            "250/250 [==============================] - 0s 1ms/step - loss: 0.3183 - accuracy: 0.8657\n",
            "Epoch 346/500\n",
            "250/250 [==============================] - 0s 1ms/step - loss: 0.3199 - accuracy: 0.8663\n",
            "Epoch 347/500\n",
            "250/250 [==============================] - 0s 1ms/step - loss: 0.3279 - accuracy: 0.8607\n",
            "Epoch 348/500\n",
            "250/250 [==============================] - 0s 1ms/step - loss: 0.3197 - accuracy: 0.8655\n",
            "Epoch 349/500\n",
            "250/250 [==============================] - 0s 1ms/step - loss: 0.3356 - accuracy: 0.8591\n",
            "Epoch 350/500\n",
            "250/250 [==============================] - 0s 1ms/step - loss: 0.3311 - accuracy: 0.8626\n",
            "Epoch 351/500\n",
            "250/250 [==============================] - 0s 1ms/step - loss: 0.3257 - accuracy: 0.8619\n",
            "Epoch 352/500\n",
            "250/250 [==============================] - 0s 1ms/step - loss: 0.3261 - accuracy: 0.8641\n",
            "Epoch 353/500\n",
            "250/250 [==============================] - 0s 1ms/step - loss: 0.3059 - accuracy: 0.8758\n",
            "Epoch 354/500\n",
            "250/250 [==============================] - 0s 1ms/step - loss: 0.3297 - accuracy: 0.8563\n",
            "Epoch 355/500\n",
            "250/250 [==============================] - 0s 1ms/step - loss: 0.3194 - accuracy: 0.8645\n",
            "Epoch 356/500\n",
            "250/250 [==============================] - 0s 1ms/step - loss: 0.3252 - accuracy: 0.8610\n",
            "Epoch 357/500\n",
            "250/250 [==============================] - 0s 1ms/step - loss: 0.3188 - accuracy: 0.8647\n",
            "Epoch 358/500\n",
            "250/250 [==============================] - 0s 1ms/step - loss: 0.3179 - accuracy: 0.8684\n",
            "Epoch 359/500\n",
            "250/250 [==============================] - 0s 1ms/step - loss: 0.3115 - accuracy: 0.8703\n",
            "Epoch 360/500\n",
            "250/250 [==============================] - 0s 1ms/step - loss: 0.3232 - accuracy: 0.8624\n",
            "Epoch 361/500\n",
            "250/250 [==============================] - 0s 1ms/step - loss: 0.3044 - accuracy: 0.8762\n",
            "Epoch 362/500\n",
            "250/250 [==============================] - 0s 1ms/step - loss: 0.3173 - accuracy: 0.8662\n",
            "Epoch 363/500\n",
            "250/250 [==============================] - 0s 1ms/step - loss: 0.3110 - accuracy: 0.8708\n",
            "Epoch 364/500\n",
            "250/250 [==============================] - 0s 1ms/step - loss: 0.3207 - accuracy: 0.8645\n",
            "Epoch 365/500\n",
            "250/250 [==============================] - 0s 1ms/step - loss: 0.3038 - accuracy: 0.8732\n",
            "Epoch 366/500\n",
            "250/250 [==============================] - 0s 1ms/step - loss: 0.3142 - accuracy: 0.8706\n",
            "Epoch 367/500\n",
            "250/250 [==============================] - 0s 1ms/step - loss: 0.3310 - accuracy: 0.8585\n",
            "Epoch 368/500\n",
            "250/250 [==============================] - 0s 1ms/step - loss: 0.3112 - accuracy: 0.8690\n",
            "Epoch 369/500\n",
            "250/250 [==============================] - 0s 1ms/step - loss: 0.3160 - accuracy: 0.8663\n",
            "Epoch 370/500\n",
            "250/250 [==============================] - 0s 1ms/step - loss: 0.3218 - accuracy: 0.8659\n",
            "Epoch 371/500\n",
            "250/250 [==============================] - 0s 1ms/step - loss: 0.3256 - accuracy: 0.8620\n",
            "Epoch 372/500\n",
            "250/250 [==============================] - 0s 1ms/step - loss: 0.3250 - accuracy: 0.8621\n",
            "Epoch 373/500\n",
            "250/250 [==============================] - 0s 1ms/step - loss: 0.3357 - accuracy: 0.8573\n",
            "Epoch 374/500\n",
            "250/250 [==============================] - 0s 1ms/step - loss: 0.3239 - accuracy: 0.8654\n",
            "Epoch 375/500\n",
            "250/250 [==============================] - 0s 1ms/step - loss: 0.3274 - accuracy: 0.8640\n",
            "Epoch 376/500\n",
            "250/250 [==============================] - 0s 1ms/step - loss: 0.3357 - accuracy: 0.8577\n",
            "Epoch 377/500\n",
            "250/250 [==============================] - 0s 1ms/step - loss: 0.3150 - accuracy: 0.8708\n",
            "Epoch 378/500\n",
            "250/250 [==============================] - 0s 1ms/step - loss: 0.3151 - accuracy: 0.8700\n",
            "Epoch 379/500\n",
            "250/250 [==============================] - 0s 1ms/step - loss: 0.3141 - accuracy: 0.8705\n",
            "Epoch 380/500\n",
            "250/250 [==============================] - 0s 1ms/step - loss: 0.3148 - accuracy: 0.8709\n",
            "Epoch 381/500\n",
            "250/250 [==============================] - 0s 1ms/step - loss: 0.3165 - accuracy: 0.8705\n",
            "Epoch 382/500\n",
            "250/250 [==============================] - 0s 1ms/step - loss: 0.3165 - accuracy: 0.8654\n",
            "Epoch 383/500\n",
            "250/250 [==============================] - 0s 1ms/step - loss: 0.3269 - accuracy: 0.8601\n",
            "Epoch 384/500\n",
            "250/250 [==============================] - 0s 1ms/step - loss: 0.3183 - accuracy: 0.8661\n",
            "Epoch 385/500\n",
            "250/250 [==============================] - 0s 1ms/step - loss: 0.3246 - accuracy: 0.8598\n",
            "Epoch 386/500\n",
            "250/250 [==============================] - 0s 1ms/step - loss: 0.3129 - accuracy: 0.8716\n",
            "Epoch 387/500\n",
            "250/250 [==============================] - 0s 1ms/step - loss: 0.3178 - accuracy: 0.8668\n",
            "Epoch 388/500\n",
            "250/250 [==============================] - 0s 1ms/step - loss: 0.3091 - accuracy: 0.8715\n",
            "Epoch 389/500\n",
            "250/250 [==============================] - 0s 1ms/step - loss: 0.3290 - accuracy: 0.8631\n",
            "Epoch 390/500\n",
            "250/250 [==============================] - 0s 1ms/step - loss: 0.3144 - accuracy: 0.8694\n",
            "Epoch 391/500\n",
            "250/250 [==============================] - 0s 1ms/step - loss: 0.3175 - accuracy: 0.8687\n",
            "Epoch 392/500\n",
            "250/250 [==============================] - 0s 1ms/step - loss: 0.3122 - accuracy: 0.8676\n",
            "Epoch 393/500\n",
            "250/250 [==============================] - 0s 1ms/step - loss: 0.3191 - accuracy: 0.8683\n",
            "Epoch 394/500\n",
            "250/250 [==============================] - 0s 1ms/step - loss: 0.3242 - accuracy: 0.8670\n",
            "Epoch 395/500\n",
            "250/250 [==============================] - 0s 1ms/step - loss: 0.3150 - accuracy: 0.8675\n",
            "Epoch 396/500\n",
            "250/250 [==============================] - 0s 1ms/step - loss: 0.3111 - accuracy: 0.8676\n",
            "Epoch 397/500\n",
            "250/250 [==============================] - 0s 1ms/step - loss: 0.3163 - accuracy: 0.8676\n",
            "Epoch 398/500\n",
            "250/250 [==============================] - 0s 1ms/step - loss: 0.3143 - accuracy: 0.8667\n",
            "Epoch 399/500\n",
            "250/250 [==============================] - 0s 1ms/step - loss: 0.3155 - accuracy: 0.8710\n",
            "Epoch 400/500\n",
            "250/250 [==============================] - 0s 1ms/step - loss: 0.3194 - accuracy: 0.8699\n",
            "Epoch 401/500\n",
            "250/250 [==============================] - 0s 1ms/step - loss: 0.3255 - accuracy: 0.8650\n",
            "Epoch 402/500\n",
            "250/250 [==============================] - 0s 1ms/step - loss: 0.3175 - accuracy: 0.8682\n",
            "Epoch 403/500\n",
            "250/250 [==============================] - 0s 1ms/step - loss: 0.3124 - accuracy: 0.8688\n",
            "Epoch 404/500\n",
            "250/250 [==============================] - 0s 1ms/step - loss: 0.3168 - accuracy: 0.8674\n",
            "Epoch 405/500\n",
            "250/250 [==============================] - 0s 1ms/step - loss: 0.3268 - accuracy: 0.8639\n",
            "Epoch 406/500\n",
            "250/250 [==============================] - 0s 1ms/step - loss: 0.3161 - accuracy: 0.8675\n",
            "Epoch 407/500\n",
            "250/250 [==============================] - 0s 1ms/step - loss: 0.3137 - accuracy: 0.8648\n",
            "Epoch 408/500\n",
            "250/250 [==============================] - 0s 1ms/step - loss: 0.3316 - accuracy: 0.8566\n",
            "Epoch 409/500\n",
            "250/250 [==============================] - 0s 1ms/step - loss: 0.3360 - accuracy: 0.8584\n",
            "Epoch 410/500\n",
            "250/250 [==============================] - 0s 1ms/step - loss: 0.3052 - accuracy: 0.8723\n",
            "Epoch 411/500\n",
            "250/250 [==============================] - 0s 1ms/step - loss: 0.3107 - accuracy: 0.8714\n",
            "Epoch 412/500\n",
            "250/250 [==============================] - 0s 1ms/step - loss: 0.3198 - accuracy: 0.8693\n",
            "Epoch 413/500\n",
            "250/250 [==============================] - 0s 1ms/step - loss: 0.3034 - accuracy: 0.8756\n",
            "Epoch 414/500\n",
            "250/250 [==============================] - 0s 1ms/step - loss: 0.3254 - accuracy: 0.8614\n",
            "Epoch 415/500\n",
            "250/250 [==============================] - 0s 1ms/step - loss: 0.3182 - accuracy: 0.8643\n",
            "Epoch 416/500\n",
            "250/250 [==============================] - 0s 1ms/step - loss: 0.3196 - accuracy: 0.8656\n",
            "Epoch 417/500\n",
            "250/250 [==============================] - 0s 1ms/step - loss: 0.3262 - accuracy: 0.8624\n",
            "Epoch 418/500\n",
            "250/250 [==============================] - 0s 1ms/step - loss: 0.3121 - accuracy: 0.8626\n",
            "Epoch 419/500\n",
            "250/250 [==============================] - 0s 1ms/step - loss: 0.3198 - accuracy: 0.8660\n",
            "Epoch 420/500\n",
            "250/250 [==============================] - 0s 1ms/step - loss: 0.3110 - accuracy: 0.8683\n",
            "Epoch 421/500\n",
            "250/250 [==============================] - 0s 1ms/step - loss: 0.3257 - accuracy: 0.8656\n",
            "Epoch 422/500\n",
            "250/250 [==============================] - 0s 1ms/step - loss: 0.3276 - accuracy: 0.8607\n",
            "Epoch 423/500\n",
            "250/250 [==============================] - 0s 1ms/step - loss: 0.3137 - accuracy: 0.8667\n",
            "Epoch 424/500\n",
            "250/250 [==============================] - 0s 1ms/step - loss: 0.3137 - accuracy: 0.8675\n",
            "Epoch 425/500\n",
            "250/250 [==============================] - 0s 1ms/step - loss: 0.3206 - accuracy: 0.8658\n",
            "Epoch 426/500\n",
            "250/250 [==============================] - 0s 1ms/step - loss: 0.3144 - accuracy: 0.8697\n",
            "Epoch 427/500\n",
            "250/250 [==============================] - 0s 1ms/step - loss: 0.3131 - accuracy: 0.8699\n",
            "Epoch 428/500\n",
            "250/250 [==============================] - 0s 1ms/step - loss: 0.3201 - accuracy: 0.8667\n",
            "Epoch 429/500\n",
            "250/250 [==============================] - 0s 1ms/step - loss: 0.3137 - accuracy: 0.8692\n",
            "Epoch 430/500\n",
            "250/250 [==============================] - 0s 1ms/step - loss: 0.3173 - accuracy: 0.8677\n",
            "Epoch 431/500\n",
            "250/250 [==============================] - 0s 1ms/step - loss: 0.3136 - accuracy: 0.8686\n",
            "Epoch 432/500\n",
            "250/250 [==============================] - 0s 1ms/step - loss: 0.3173 - accuracy: 0.8629\n",
            "Epoch 433/500\n",
            "250/250 [==============================] - 0s 1ms/step - loss: 0.3236 - accuracy: 0.8644\n",
            "Epoch 434/500\n",
            "250/250 [==============================] - 0s 1ms/step - loss: 0.3143 - accuracy: 0.8700\n",
            "Epoch 435/500\n",
            "250/250 [==============================] - 0s 1ms/step - loss: 0.3286 - accuracy: 0.8633\n",
            "Epoch 436/500\n",
            "250/250 [==============================] - 0s 1ms/step - loss: 0.3157 - accuracy: 0.8662\n",
            "Epoch 437/500\n",
            "250/250 [==============================] - 0s 1ms/step - loss: 0.3296 - accuracy: 0.8603\n",
            "Epoch 438/500\n",
            "250/250 [==============================] - 0s 1ms/step - loss: 0.3236 - accuracy: 0.8662\n",
            "Epoch 439/500\n",
            "250/250 [==============================] - 0s 1ms/step - loss: 0.3134 - accuracy: 0.8691\n",
            "Epoch 440/500\n",
            "250/250 [==============================] - 0s 1ms/step - loss: 0.3202 - accuracy: 0.8690\n",
            "Epoch 441/500\n",
            "250/250 [==============================] - 0s 1ms/step - loss: 0.3179 - accuracy: 0.8666\n",
            "Epoch 442/500\n",
            "250/250 [==============================] - 0s 1ms/step - loss: 0.3081 - accuracy: 0.8707\n",
            "Epoch 443/500\n",
            "250/250 [==============================] - 0s 1ms/step - loss: 0.3180 - accuracy: 0.8645\n",
            "Epoch 444/500\n",
            "250/250 [==============================] - 0s 1ms/step - loss: 0.3161 - accuracy: 0.8675\n",
            "Epoch 445/500\n",
            "250/250 [==============================] - 0s 1ms/step - loss: 0.3079 - accuracy: 0.8683\n",
            "Epoch 446/500\n",
            "250/250 [==============================] - 0s 1ms/step - loss: 0.3119 - accuracy: 0.8678\n",
            "Epoch 447/500\n",
            "250/250 [==============================] - 0s 1ms/step - loss: 0.3093 - accuracy: 0.8692\n",
            "Epoch 448/500\n",
            "250/250 [==============================] - 0s 1ms/step - loss: 0.3150 - accuracy: 0.8676\n",
            "Epoch 449/500\n",
            "250/250 [==============================] - 0s 1ms/step - loss: 0.3157 - accuracy: 0.8664\n",
            "Epoch 450/500\n",
            "250/250 [==============================] - 0s 1ms/step - loss: 0.3244 - accuracy: 0.8633\n",
            "Epoch 451/500\n",
            "250/250 [==============================] - 0s 1ms/step - loss: 0.3299 - accuracy: 0.8628\n",
            "Epoch 452/500\n",
            "250/250 [==============================] - 0s 1ms/step - loss: 0.3238 - accuracy: 0.8653\n",
            "Epoch 453/500\n",
            "250/250 [==============================] - 0s 1ms/step - loss: 0.3191 - accuracy: 0.8651\n",
            "Epoch 454/500\n",
            "250/250 [==============================] - 0s 1ms/step - loss: 0.3186 - accuracy: 0.8637\n",
            "Epoch 455/500\n",
            "250/250 [==============================] - 0s 1ms/step - loss: 0.3193 - accuracy: 0.8649\n",
            "Epoch 456/500\n",
            "250/250 [==============================] - 0s 1ms/step - loss: 0.3179 - accuracy: 0.8659\n",
            "Epoch 457/500\n",
            "250/250 [==============================] - 0s 1ms/step - loss: 0.3106 - accuracy: 0.8695\n",
            "Epoch 458/500\n",
            "250/250 [==============================] - 0s 1ms/step - loss: 0.3208 - accuracy: 0.8658\n",
            "Epoch 459/500\n",
            "250/250 [==============================] - 0s 1ms/step - loss: 0.3178 - accuracy: 0.8677\n",
            "Epoch 460/500\n",
            "250/250 [==============================] - 0s 1ms/step - loss: 0.3204 - accuracy: 0.8725\n",
            "Epoch 461/500\n",
            "250/250 [==============================] - 0s 1ms/step - loss: 0.3122 - accuracy: 0.8740\n",
            "Epoch 462/500\n",
            "250/250 [==============================] - 0s 1ms/step - loss: 0.3164 - accuracy: 0.8664\n",
            "Epoch 463/500\n",
            "250/250 [==============================] - 0s 1ms/step - loss: 0.3097 - accuracy: 0.8676\n",
            "Epoch 464/500\n",
            "250/250 [==============================] - 0s 1ms/step - loss: 0.3041 - accuracy: 0.8716\n",
            "Epoch 465/500\n",
            "250/250 [==============================] - 0s 1ms/step - loss: 0.3150 - accuracy: 0.8702\n",
            "Epoch 466/500\n",
            "250/250 [==============================] - 0s 1ms/step - loss: 0.3216 - accuracy: 0.8666\n",
            "Epoch 467/500\n",
            "250/250 [==============================] - 0s 1ms/step - loss: 0.3118 - accuracy: 0.8657\n",
            "Epoch 468/500\n",
            "250/250 [==============================] - 0s 1ms/step - loss: 0.3197 - accuracy: 0.8633\n",
            "Epoch 469/500\n",
            "250/250 [==============================] - 0s 1ms/step - loss: 0.3225 - accuracy: 0.8673\n",
            "Epoch 470/500\n",
            "250/250 [==============================] - 0s 1ms/step - loss: 0.3185 - accuracy: 0.8656\n",
            "Epoch 471/500\n",
            "250/250 [==============================] - 0s 1ms/step - loss: 0.3078 - accuracy: 0.8735\n",
            "Epoch 472/500\n",
            "250/250 [==============================] - 0s 1ms/step - loss: 0.3073 - accuracy: 0.8734\n",
            "Epoch 473/500\n",
            "250/250 [==============================] - 0s 1ms/step - loss: 0.3158 - accuracy: 0.8672\n",
            "Epoch 474/500\n",
            "250/250 [==============================] - 0s 1ms/step - loss: 0.3270 - accuracy: 0.8670\n",
            "Epoch 475/500\n",
            "250/250 [==============================] - 0s 1ms/step - loss: 0.3115 - accuracy: 0.8716\n",
            "Epoch 476/500\n",
            "250/250 [==============================] - 0s 1ms/step - loss: 0.3207 - accuracy: 0.8602\n",
            "Epoch 477/500\n",
            "250/250 [==============================] - 0s 1ms/step - loss: 0.2983 - accuracy: 0.8772\n",
            "Epoch 478/500\n",
            "250/250 [==============================] - 0s 1ms/step - loss: 0.3036 - accuracy: 0.8744\n",
            "Epoch 479/500\n",
            "250/250 [==============================] - 0s 1ms/step - loss: 0.3211 - accuracy: 0.8626\n",
            "Epoch 480/500\n",
            "250/250 [==============================] - 0s 1ms/step - loss: 0.3216 - accuracy: 0.8658\n",
            "Epoch 481/500\n",
            "250/250 [==============================] - 0s 1ms/step - loss: 0.3133 - accuracy: 0.8674\n",
            "Epoch 482/500\n",
            "250/250 [==============================] - 0s 1ms/step - loss: 0.3147 - accuracy: 0.8688\n",
            "Epoch 483/500\n",
            "250/250 [==============================] - 0s 1ms/step - loss: 0.3093 - accuracy: 0.8695\n",
            "Epoch 484/500\n",
            "250/250 [==============================] - 0s 1ms/step - loss: 0.3089 - accuracy: 0.8709\n",
            "Epoch 485/500\n",
            "250/250 [==============================] - 0s 1ms/step - loss: 0.3188 - accuracy: 0.8654\n",
            "Epoch 486/500\n",
            "250/250 [==============================] - 0s 1ms/step - loss: 0.3150 - accuracy: 0.8666\n",
            "Epoch 487/500\n",
            "250/250 [==============================] - 0s 1ms/step - loss: 0.3104 - accuracy: 0.8680\n",
            "Epoch 488/500\n",
            "250/250 [==============================] - 0s 1ms/step - loss: 0.3185 - accuracy: 0.8665\n",
            "Epoch 489/500\n",
            "250/250 [==============================] - 0s 1ms/step - loss: 0.3201 - accuracy: 0.8623\n",
            "Epoch 490/500\n",
            "250/250 [==============================] - 0s 1ms/step - loss: 0.3164 - accuracy: 0.8665\n",
            "Epoch 491/500\n",
            "250/250 [==============================] - 0s 1ms/step - loss: 0.3193 - accuracy: 0.8653\n",
            "Epoch 492/500\n",
            "250/250 [==============================] - 0s 1ms/step - loss: 0.3132 - accuracy: 0.8709\n",
            "Epoch 493/500\n",
            "250/250 [==============================] - 0s 1ms/step - loss: 0.3261 - accuracy: 0.8598\n",
            "Epoch 494/500\n",
            "250/250 [==============================] - 0s 1ms/step - loss: 0.3080 - accuracy: 0.8712\n",
            "Epoch 495/500\n",
            "250/250 [==============================] - 0s 1ms/step - loss: 0.3191 - accuracy: 0.8646\n",
            "Epoch 496/500\n",
            "250/250 [==============================] - 0s 1ms/step - loss: 0.3176 - accuracy: 0.8657\n",
            "Epoch 497/500\n",
            "250/250 [==============================] - 0s 1ms/step - loss: 0.3166 - accuracy: 0.8683\n",
            "Epoch 498/500\n",
            "250/250 [==============================] - 0s 1ms/step - loss: 0.3117 - accuracy: 0.8664\n",
            "Epoch 499/500\n",
            "250/250 [==============================] - 0s 1ms/step - loss: 0.3173 - accuracy: 0.8660\n",
            "Epoch 500/500\n",
            "250/250 [==============================] - 0s 1ms/step - loss: 0.3102 - accuracy: 0.8743\n"
          ],
          "name": "stdout"
        },
        {
          "output_type": "execute_result",
          "data": {
            "text/plain": [
              "<tensorflow.python.keras.callbacks.History at 0x7f5f9201b668>"
            ]
          },
          "metadata": {
            "tags": []
          },
          "execution_count": 48
        }
      ]
    },
    {
      "cell_type": "code",
      "metadata": {
        "id": "9za0H4CSirJ1"
      },
      "source": [
        "y_pred  = model.predict(x_test)"
      ],
      "execution_count": 49,
      "outputs": []
    },
    {
      "cell_type": "code",
      "metadata": {
        "colab": {
          "base_uri": "https://localhost:8080/"
        },
        "id": "TYLGAy9Wl8kC",
        "outputId": "0340bf87-a894-4dfa-cf52-16f95bb95f11"
      },
      "source": [
        "y_pred"
      ],
      "execution_count": 50,
      "outputs": [
        {
          "output_type": "execute_result",
          "data": {
            "text/plain": [
              "array([[0.22539681],\n",
              "       [0.27417284],\n",
              "       [0.45618963],\n",
              "       ...,\n",
              "       [0.07323271],\n",
              "       [0.12001923],\n",
              "       [0.09521106]], dtype=float32)"
            ]
          },
          "metadata": {
            "tags": []
          },
          "execution_count": 50
        }
      ]
    },
    {
      "cell_type": "code",
      "metadata": {
        "id": "Y7ONORqjl-xF"
      },
      "source": [
        "y_pred = (y_pred > 0.5) #Since we have used Sigmoid so its necessary to decide a threshold above it values is True below it values will be false"
      ],
      "execution_count": 51,
      "outputs": []
    },
    {
      "cell_type": "code",
      "metadata": {
        "colab": {
          "base_uri": "https://localhost:8080/"
        },
        "id": "6DMRicOzmBdc",
        "outputId": "c18068f9-9c12-4e58-ea16-e83bc01f6e7b"
      },
      "source": [
        "y_pred"
      ],
      "execution_count": 52,
      "outputs": [
        {
          "output_type": "execute_result",
          "data": {
            "text/plain": [
              "array([[False],\n",
              "       [False],\n",
              "       [False],\n",
              "       ...,\n",
              "       [False],\n",
              "       [False],\n",
              "       [False]])"
            ]
          },
          "metadata": {
            "tags": []
          },
          "execution_count": 52
        }
      ]
    },
    {
      "cell_type": "markdown",
      "metadata": {
        "id": "afTWNzQBmO5w"
      },
      "source": [
        "**Test on a Random Sample**"
      ]
    },
    {
      "cell_type": "code",
      "metadata": {
        "id": "rwp6KNq6mLa6"
      },
      "source": [
        "#y_p = model.predict(sc.fit_transform(([[1,0,0,200,0,25,1,1,0,0,0,0,30000]])))"
      ],
      "execution_count": null,
      "outputs": []
    },
    {
      "cell_type": "markdown",
      "metadata": {
        "id": "gwklS9EHnLIg"
      },
      "source": [
        "**Check For the Accuracy**"
      ]
    },
    {
      "cell_type": "code",
      "metadata": {
        "id": "J2hbVNV6mTbA"
      },
      "source": [
        "from sklearn.metrics import accuracy_score\r\n",
        "acc=accuracy_score(y_test,y_pred)"
      ],
      "execution_count": 57,
      "outputs": []
    },
    {
      "cell_type": "code",
      "metadata": {
        "colab": {
          "base_uri": "https://localhost:8080/"
        },
        "id": "OZJWTUqgnVJr",
        "outputId": "1ddab906-2de5-4130-d295-c2b34df48869"
      },
      "source": [
        "print(\"The Accuracy of Model is \",acc*100,\"%\")"
      ],
      "execution_count": 59,
      "outputs": [
        {
          "output_type": "stream",
          "text": [
            "The Accuracy of Model is  85.0 %\n"
          ],
          "name": "stdout"
        }
      ]
    },
    {
      "cell_type": "code",
      "metadata": {
        "id": "-iHtI-WOnZsj"
      },
      "source": [
        ""
      ],
      "execution_count": null,
      "outputs": []
    }
  ]
}